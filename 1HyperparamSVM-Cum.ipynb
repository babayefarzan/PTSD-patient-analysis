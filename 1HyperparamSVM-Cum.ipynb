{
 "cells": [
  {
   "cell_type": "markdown",
   "metadata": {},
   "source": [
    "### Hyperparameter Tuning for Support Vector Machine"
   ]
  },
  {
   "cell_type": "code",
   "execution_count": 1,
   "metadata": {},
   "outputs": [],
   "source": [
    "import pandas as pd\n",
    "import numpy as np\n",
    "import scipy\n",
    "from sklearn.svm import SVC\n",
    "from sklearn import preprocessing\n",
    "from sklearn.model_selection import RandomizedSearchCV"
   ]
  },
  {
   "cell_type": "code",
   "execution_count": 2,
   "metadata": {},
   "outputs": [],
   "source": [
    "data_df = pd.read_csv('data_process_cum.csv')\n",
    "dataset = data_df.as_matrix()\n",
    "X = dataset[:,0:21]\n",
    "\n",
    "#last column is the target\n",
    "y = dataset[:,21:22]\n",
    "standardized_X = preprocessing.scale(X)\n",
    "\n",
    "seed = 4\n",
    "n_iter_search = 10"
   ]
  },
  {
   "cell_type": "code",
   "execution_count": 3,
   "metadata": {},
   "outputs": [
    {
     "name": "stdout",
     "output_type": "stream",
     "text": [
      "{'C': 0.624974423446755}\n"
     ]
    }
   ],
   "source": [
    "#linear kernel\n",
    "C_range = scipy.stats.expon(scale=100)\n",
    "\n",
    "# specify parameters and distributions to sample from\n",
    "param_dist = {\"C\": C_range}\n",
    "\n",
    "# run randomized search\n",
    "linear = RandomizedSearchCV(SVC(kernel='linear'), param_distributions=param_dist,cv = 10, n_iter=n_iter_search,scoring='accuracy',random_state=4)\n",
    "linear.fit(standardized_X, y.ravel())\n",
    "print(linear.best_params_)"
   ]
  },
  {
   "cell_type": "code",
   "execution_count": 4,
   "metadata": {},
   "outputs": [
    {
     "name": "stdout",
     "output_type": "stream",
     "text": [
      "{'C': 57.296107349133315, 'class_weight': 'balanced', 'gamma': 0.004059323094735449, 'kernel': 'rbf'}\n"
     ]
    }
   ],
   "source": [
    "#RBF kernel\n",
    "params = {'C': scipy.stats.expon(scale=100), 'gamma': scipy.stats.expon(scale=.1),'kernel': ['rbf'], 'class_weight':['balanced', None]}\n",
    "\n",
    "# specify parameters and distributions to sample from\n",
    "rbf = RandomizedSearchCV(SVC(), params, cv=10,n_iter=n_iter_search,scoring='accuracy',random_state=4)\n",
    "rbf.fit(standardized_X, y.ravel())\n",
    "print(rbf.best_params_)"
   ]
  },
  {
   "cell_type": "code",
   "execution_count": 5,
   "metadata": {},
   "outputs": [
    {
     "name": "stdout",
     "output_type": "stream",
     "text": [
      "{'C': 44.862787773900145, 'class_weight': 'balanced', 'gamma': 0.017893797724654898, 'kernel': 'poly'}\n"
     ]
    }
   ],
   "source": [
    "#poly kernel\n",
    "params = {'C': scipy.stats.expon(scale=100), 'gamma': scipy.stats.expon(scale=.1),'kernel': ['poly'], 'class_weight':['balanced', None]}\n",
    "\n",
    "# specify parameters and distributions to sample from\n",
    "polysearch = RandomizedSearchCV(SVC(), params, cv=10,n_iter=10,scoring='accuracy',random_state=4)\n",
    "polysearch.fit(standardized_X, y.ravel())\n",
    "print(polysearch.best_params_)"
   ]
  },
  {
   "cell_type": "code",
   "execution_count": null,
   "metadata": {},
   "outputs": [],
   "source": []
  }
 ],
 "metadata": {
  "kernelspec": {
   "display_name": "Python 3",
   "language": "python",
   "name": "python3"
  },
  "language_info": {
   "codemirror_mode": {
    "name": "ipython",
    "version": 3
   },
   "file_extension": ".py",
   "mimetype": "text/x-python",
   "name": "python",
   "nbconvert_exporter": "python",
   "pygments_lexer": "ipython3",
   "version": "3.6.4"
  }
 },
 "nbformat": 4,
 "nbformat_minor": 2
}
