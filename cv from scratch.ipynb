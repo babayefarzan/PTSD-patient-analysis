{
 "cells": [
  {
   "cell_type": "code",
   "execution_count": 1,
   "metadata": {},
   "outputs": [
    {
     "name": "stderr",
     "output_type": "stream",
     "text": [
      "/anaconda3/lib/python3.6/site-packages/sklearn/cross_validation.py:41: DeprecationWarning: This module was deprecated in version 0.18 in favor of the model_selection module into which all the refactored classes and functions are moved. Also note that the interface of the new CV iterators are different from that of this module. This module will be removed in 0.20.\n",
      "  \"This module will be removed in 0.20.\", DeprecationWarning)\n"
     ]
    }
   ],
   "source": [
    "import pandas as pd\n",
    "import numpy as np\n",
    "import scipy\n",
    "import sklearn.svm\n",
    "from sklearn import preprocessing\n",
    "from sklearn.model_selection import train_test_split\n",
    "from sklearn.linear_model import LogisticRegression\n",
    "from sklearn.metrics import confusion_matrix\n",
    "from sklearn.metrics import classification_report\n",
    "from sklearn.metrics import accuracy_score\n",
    "from sklearn.model_selection import cross_val_predict\n",
    "from sklearn import metrics\n",
    "import sklearn.metrics\n",
    "from sklearn.cross_validation import cross_val_score\n",
    "from sklearn.ensemble import ExtraTreesClassifier\n",
    "from sklearn.ensemble import RandomForestClassifier\n",
    "from sklearn.tree import DecisionTreeClassifier\n",
    "from sklearn.svm import SVC\n",
    "from sklearn.model_selection import RandomizedSearchCV\n",
    "from sklearn.metrics import accuracy_score\n",
    "from sklearn.ensemble import VotingClassifier\n",
    "\n",
    "from matplotlib import pyplot as plt\n",
    "%matplotlib inline"
   ]
  },
  {
   "cell_type": "code",
   "execution_count": 2,
   "metadata": {
    "collapsed": true
   },
   "outputs": [],
   "source": [
    "data_df = pd.read_csv('data_process1.csv')\n",
    "dataset = data_df"
   ]
  },
  {
   "cell_type": "code",
   "execution_count": 3,
   "metadata": {
    "collapsed": true
   },
   "outputs": [],
   "source": [
    "#Creating k folds\n",
    "def fold_i_of_k(dataset, i, k):\n",
    "    n = len(dataset)\n",
    "    return len(dataset[n*(i-1)//k:n*i//k])"
   ]
  },
  {
   "cell_type": "code",
   "execution_count": 26,
   "metadata": {},
   "outputs": [
    {
     "name": "stdout",
     "output_type": "stream",
     "text": [
      "Fold  1\n",
      "0.728070175439\n",
      "Fold  2\n",
      "0.964912280702\n",
      "Fold  3\n",
      "0.721739130435\n",
      "Fold  4\n",
      "0.824561403509\n",
      "Fold  5\n",
      "0.878260869565\n",
      "Fold  6\n",
      "0.798245614035\n",
      "Fold  7\n",
      "0.5\n",
      "Fold  8\n",
      "0.660869565217\n",
      "Fold  9\n",
      "0.517543859649\n",
      "Fold  10\n",
      "0.565217391304\n",
      "Cross validation accuracy is:  0.715942028986\n"
     ]
    }
   ],
   "source": [
    "#Constants\n",
    "FOLD_I = 1\n",
    "FOLD_K =10\n",
    "\n",
    "#Creating 10 folds\n",
    "result_pred = np.array([])\n",
    "result_score = np.array([])\n",
    "y = np.array([])\n",
    "counter = 1\n",
    "s=0\n",
    "total_ac = 0\n",
    "while counter!=FOLD_K+1:\n",
    "    print(\"Fold \",counter)\n",
    "    fold = fold_i_of_k(dataset,counter,10)\n",
    "    d_fold = dataset[s:s + fold]\n",
    "    #print(d_fold.index.values)\n",
    "    #print(d_fold.iloc[1:3,0:2])\n",
    "    d_test = d_fold\n",
    "    X_test = d_test.iloc[:,0:11]\n",
    "    y_test = d_test.iloc[:,11:12]\n",
    "    d_train = dataset.drop(dataset.index[s:s+fold])\n",
    "    X_train = d_train.iloc[:,0:11]\n",
    "    y_train = d_train.iloc[:,11:12]\n",
    " \n",
    "    X_train = X_train.as_matrix()\n",
    "    X_train = preprocessing.scale(X_train)\n",
    "    \n",
    "    y_train = y_train.as_matrix()\n",
    "    y_train = y_train.ravel()\n",
    "    \n",
    "    X_test = X_test.as_matrix()\n",
    "    X_test = preprocessing.scale(X_test)\n",
    "    \n",
    "    y_test = y_test.as_matrix()\n",
    "    y_test = y_test.ravel()\n",
    "    y = np.concatenate((y,y_test))\n",
    "    ##print(y_test)\n",
    "    ##print(dataset)\n",
    "    ##print(d_fold)\n",
    "    ##print(d_train)\n",
    "    ##print(d_test)\n",
    "    ##print(len(X_train))\n",
    "    ##print(len(y_train))\n",
    "    ##print(X_test)\n",
    "    ##print(y_test)\n",
    "    #print(fold)\n",
    "    lr = LogisticRegression()\n",
    "    lr.fit(X_train,y_train)\n",
    "    lr_pred = lr.predict(X_test)\n",
    "    result_pred = np.concatenate((result_pred,lr_pred))\n",
    "    #print((result_pred)) \n",
    "    y_score = lr.decision_function(X_test)\n",
    "    result_score = np.concatenate((result_score,y_score))\n",
    "    ##print(len(y_score))\n",
    "    ac = accuracy_score(y_test,lr_pred)\n",
    "    print(ac)\n",
    "    ##print(classification_report(y_test,lr_pred))\n",
    "\n",
    "    total_ac = total_ac + ac\n",
    "    s = s + fold \n",
    "    counter= counter+1\n",
    "    \n",
    "total_ac = total_ac / FOLD_K\n",
    "print(\"Cross validation accuracy is: \",total_ac)\n",
    "#print(len(y))\n",
    "#print(len(result_score))"
   ]
  },
  {
   "cell_type": "code",
   "execution_count": 21,
   "metadata": {},
   "outputs": [],
   "source": [
    "#fold= fold_i_of_k(dataset,FOLD_I,FOLD_K)"
   ]
  },
  {
   "cell_type": "code",
   "execution_count": 25,
   "metadata": {},
   "outputs": [
    {
     "name": "stdout",
     "output_type": "stream",
     "text": [
      "Average precision-recall score: 0.65\n"
     ]
    },
    {
     "data": {
      "text/plain": [
       "Text(0.5,1,'2-class Precision-Recall curve: AP=0.65')"
      ]
     },
     "execution_count": 25,
     "metadata": {},
     "output_type": "execute_result"
    },
    {
     "data": {
      "image/png": "[encoded data removed]",
      "text/plain": [
       "<matplotlib.figure.Figure at 0x105854978>"
      ]
     },
     "metadata": {},
     "output_type": "display_data"
    }
   ],
   "source": [
    "from sklearn.metrics import average_precision_score\n",
    "from sklearn.metrics import precision_recall_curve\n",
    "import matplotlib.pyplot as plt\n",
    "average_precision = average_precision_score(y, result_score)\n",
    "\n",
    "print('Average precision-recall score: {0:0.2f}'.format(average_precision))\n",
    "\n",
    "precision, recall, _ = precision_recall_curve(y, result_score)\n",
    "\n",
    "plt.step(recall, precision, color='b', alpha=0.2,where='post')\n",
    "plt.fill_between(recall, precision, step='post', alpha=0.2,color='b')\n",
    "\n",
    "plt.xlabel('Recall')\n",
    "plt.ylabel('Precision')\n",
    "plt.ylim([0.0, 1.05])\n",
    "plt.xlim([0.0, 1.0])\n",
    "plt.title('2-class Precision-Recall curve: AP={0:0.2f}'.format(average_precision))"
   ]
  },
  {
   "cell_type": "code",
   "execution_count": null,
   "metadata": {
    "collapsed": true
   },
   "outputs": [],
   "source": [
    "seed = 58\n",
    "results =[]"
   ]
  },
  {
   "cell_type": "code",
   "execution_count": null,
   "metadata": {},
   "outputs": [],
   "source": [
    "#Logistic Regression- StratifiedKFold \n",
    "logcvmodel = LogisticRegression()\n",
    "logcvmodel_y_pred = cross_val_predict(logcvmodel,standardized_X, y, cv=10)\n",
    "results.append(logcvmodel_y_pred)\n",
    "print(metrics.classification_report(y, logcvmodel_y_pred))\n",
    "print(metrics.confusion_matrix(y, logcvmodel_y_pred))\n",
    "#............................\n",
    "log_cv_scores = cross_val_score(logcvmodel, standardized_X, y, scoring='accuracy', cv=10)\n",
    "#print(log_cv_scores)\n",
    "print(\"The accuracy on Cross validation score in Logistic Regression:\",log_cv_scores.mean())"
   ]
  },
  {
   "cell_type": "code",
   "execution_count": null,
   "metadata": {},
   "outputs": [],
   "source": [
    "#Decision Tree\n",
    "dtcvmodel = DecisionTreeClassifier(random_state=seed)\n",
    "dt_y_pred = cross_val_predict(dtcvmodel,standardized_X, y, cv=10)\n",
    "results.append(dt_y_pred)\n",
    "print(metrics.classification_report(y,dt_y_pred))\n",
    "print(metrics.confusion_matrix(y, dt_y_pred))\n",
    "#................................................................\n",
    "dt_cv_scores = cross_val_score(dtcvmodel, standardized_X, y, scoring='accuracy', cv=10)\n",
    "#print(dt_cv_scores)\n",
    "print(\"The accuracy on cross validation score in Decision Tree:\",dt_cv_scores.mean())"
   ]
  },
  {
   "cell_type": "code",
   "execution_count": null,
   "metadata": {},
   "outputs": [],
   "source": [
    "#Random Forest\n",
    "rfccvmodel = RandomForestClassifier(n_estimators=100, random_state=seed)\n",
    "rf_y_pred = cross_val_predict(rfccvmodel,standardized_X, y, cv=10)\n",
    "results.append(rf_y_pred)\n",
    "print(metrics.classification_report(y, rf_y_pred))\n",
    "print(metrics.confusion_matrix(y, rf_y_pred))\n",
    "rf_cv_scores = cross_val_score(rfccvmodel, standardized_X, y, scoring='accuracy', cv=10)\n",
    "#print(rf_cv_scores)\n",
    "print(\"The accuracy on cross validation score in Random Forest:\",rf_cv_scores.mean())"
   ]
  },
  {
   "cell_type": "code",
   "execution_count": null,
   "metadata": {},
   "outputs": [],
   "source": [
    "#Extremely Random Trees\n",
    "etcvmodel = ExtraTreesClassifier(random_state=seed)\n",
    "et_y_pred= cross_val_predict(etcvmodel,standardized_X, y, cv=10)\n",
    "results.append(et_y_pred)\n",
    "print(metrics.classification_report(y, et_y_pred))\n",
    "print(metrics.confusion_matrix(y, et_y_pred))\n",
    "et_cv_scores = cross_val_score(etcvmodel, standardized_X, y, scoring='accuracy', cv=10)\n",
    "#print(et_cv_scores)\n",
    "print(\"The accuracy on cross validation score in Random Forest:\",et_cv_scores.mean())"
   ]
  },
  {
   "cell_type": "code",
   "execution_count": null,
   "metadata": {},
   "outputs": [],
   "source": [
    "#SVM Linear Kernel\n",
    "svmcvlinear = SVC(kernel='linear', C=45.42)\n",
    "linear_cv_error = cross_val_score(svmcvlinear, standardized_X, y, cv=10)\n",
    "results.append(linear_cv_error)\n",
    "print(linear_cv_error,\"\\n***************************************************************************\")\n",
    "print('\\nThe {}-fold cross-validation accuracy score for linear SVM classifier is {:.2f}\\n'.format(10, np.average(linear_cv_error)))"
   ]
  },
  {
   "cell_type": "code",
   "execution_count": null,
   "metadata": {},
   "outputs": [],
   "source": [
    "linearsvmclf = svmcvlinear.fit(standardized_X, y)\n",
    "decision_values = linearsvmclf.decision_function(standardized_X)\n",
    "\n",
    "precision, recall, thresholds = sklearn.metrics.precision_recall_curve(y, decision_values)\n",
    "\n",
    "plt.plot(recall, precision, color='red')\n",
    "plt.fill_between(recall, precision, step='post', alpha=0.1,color='red')\n",
    "plt.xlabel('Recall')\n",
    "plt.ylabel('Precision')\n",
    "plt.show()"
   ]
  },
  {
   "cell_type": "code",
   "execution_count": null,
   "metadata": {},
   "outputs": [],
   "source": [
    "#SVM RBF Kernel\n",
    "svmcvrbf = SVC(kernel='rbf', C= 31.21,gamma=0.00827)\n",
    "rbf_cv_error = cross_val_score(svmcvrbf, standardized_X, y, cv=10)\n",
    "results.append(rbf_cv_error)\n",
    "print(rbf_cv_error,\"\\n***************************************************************************\")\n",
    "print('\\nThe {}-fold cross-validation accuracy score for classifier is {:.2f}\\n'.format(10, np.average(rbf_cv_error)))"
   ]
  },
  {
   "cell_type": "code",
   "execution_count": null,
   "metadata": {},
   "outputs": [],
   "source": [
    "rbfsvmclf = svmcvrbf.fit(standardized_X, y)\n",
    "decision_values = rbfsvmclf.decision_function(standardized_X)\n",
    "\n",
    "precision, recall, thresholds = sklearn.metrics.precision_recall_curve(y, decision_values)\n",
    "\n",
    "plt.plot(recall, precision, color='black')\n",
    "plt.fill_between(recall, precision, step='post', alpha=0.1,color='gray')\n",
    "plt.xlabel('Recall')\n",
    "plt.ylabel('Precision')\n",
    "plt.show()"
   ]
  },
  {
   "cell_type": "code",
   "execution_count": null,
   "metadata": {},
   "outputs": [],
   "source": [
    "#SVM NPolynomial Kernel\n",
    "svmcvpoly = SVC(kernel='poly',C= 35.673,gamma=0.0422)\n",
    "poly_cv_error = cross_val_score(svmcvpoly, standardized_X, y, cv=10)\n",
    "results.append(poly_cv_error)\n",
    "print(poly_cv_error,\"\\n***************************************************************************\")\n",
    "print('\\nThe {}-fold cross-validation accuracy score for classifier is {:.2f}\\n'.format(10, np.average(poly_cv_error)))"
   ]
  },
  {
   "cell_type": "code",
   "execution_count": null,
   "metadata": {},
   "outputs": [],
   "source": [
    "polysvmclf = svmcvpoly.fit(standardized_X, y)\n",
    "decision_values = polysvmclf.decision_function(standardized_X)\n",
    "precision, recall, thresholds = sklearn.metrics.precision_recall_curve(y, decision_values)\n",
    "plt.plot(recall, precision, color='orange',markerfacecolor='blue', markersize=12)\n",
    "plt.fill_between(recall, precision, step='post', alpha=0.07,color='yellow')\n",
    "plt.xlabel('Recall')\n",
    "plt.ylabel('Precision')\n",
    "plt.show()"
   ]
  },
  {
   "cell_type": "code",
   "execution_count": null,
   "metadata": {},
   "outputs": [],
   "source": [
    "# Voting Ensemble for Classification\n",
    "from sklearn import model_selection\n",
    "\n",
    "\n",
    "#kfold = model_selection.KFold(n_splits=10, random_state=seed)\n",
    "# create the sub models\n",
    "estimators = []\n",
    "estimators.append(('logistic', logcvmodel))\n",
    "estimators.append(('randomforest', rfccvmodel))\n",
    "estimators.append(('extratreeforest', etcvmodel))\n",
    "estimators.append(('svmlinear', svmcvlinear))\n",
    "estimators.append(('svmrbf', svmcvrbf))\n",
    "estimators.append(('svmpoly', svmcvpoly))\n",
    "# create the ensemble model\n",
    "ensemble = VotingClassifier(estimators, voting='hard')\n",
    "results = model_selection.cross_val_score(ensemble, standardized_X, y, cv=10)\n",
    "print(results.mean())"
   ]
  },
  {
   "cell_type": "code",
   "execution_count": null,
   "metadata": {
    "collapsed": true
   },
   "outputs": [],
   "source": []
  },
  {
   "cell_type": "code",
   "execution_count": null,
   "metadata": {
    "collapsed": true
   },
   "outputs": [],
   "source": []
  }
 ],
 "metadata": {
  "kernelspec": {
   "display_name": "Python 3",
   "language": "python",
   "name": "python3"
  },
  "language_info": {
   "codemirror_mode": {
    "name": "ipython",
    "version": 3
   },
   "file_extension": ".py",
   "mimetype": "text/x-python",
   "name": "python",
   "nbconvert_exporter": "python",
   "pygments_lexer": "ipython3",
   "version": "3.6.3"
  }
 },
 "nbformat": 4,
 "nbformat_minor": 2
}
