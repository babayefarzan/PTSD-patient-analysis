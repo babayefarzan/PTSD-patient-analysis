{
 "cells": [
  {
   "cell_type": "code",
   "execution_count": 40,
   "metadata": {},
   "outputs": [],
   "source": [
    "import pandas as pd\n",
    "import numpy as np\n",
    "from sklearn import preprocessing\n",
    "from sklearn.model_selection import train_test_split\n",
    "from sklearn.linear_model import LogisticRegression\n",
    "from sklearn.metrics import confusion_matrix\n",
    "from sklearn.metrics import classification_report\n",
    "from sklearn.metrics import accuracy_score\n",
    "from sklearn.model_selection import cross_val_predict\n",
    "from sklearn import metrics\n",
    "from sklearn.cross_validation import cross_val_score\n",
    "from sklearn.ensemble import RandomForestClassifier\n",
    "from sklearn.svm import SVC\n",
    "from sklearn.model_selection import RandomizedSearchCV\n",
    "import scipy\n",
    "from sklearn.metrics import accuracy_score\n",
    "%matplotlib inline"
   ]
  },
  {
   "cell_type": "code",
   "execution_count": 41,
   "metadata": {},
   "outputs": [
    {
     "data": {
      "text/plain": [
       "(1144, 16)"
      ]
     },
     "execution_count": 41,
     "metadata": {},
     "output_type": "execute_result"
    }
   ],
   "source": [
    "#data_df = pd.read_csv('data4_cumm.csv')\n",
    "data_df = pd.read_csv('data3.csv')\n",
    "data_df.shape"
   ]
  },
  {
   "cell_type": "code",
   "execution_count": 42,
   "metadata": {
    "collapsed": true
   },
   "outputs": [],
   "source": [
    "dataset = data_df.as_matrix()"
   ]
  },
  {
   "cell_type": "code",
   "execution_count": 43,
   "metadata": {},
   "outputs": [
    {
     "data": {
      "text/plain": [
       "(1144, 10)"
      ]
     },
     "execution_count": 43,
     "metadata": {},
     "output_type": "execute_result"
    }
   ],
   "source": [
    "X = dataset[:,4:14]\n",
    "y = dataset[:,15]\n",
    "#X = dataset[:,4:24]\n",
    "#y = dataset[:,25]\n",
    "X.shape"
   ]
  },
  {
   "cell_type": "code",
   "execution_count": 44,
   "metadata": {
    "collapsed": true
   },
   "outputs": [],
   "source": [
    "standardized_X = preprocessing.scale(X)\n",
    "seed = 58"
   ]
  },
  {
   "cell_type": "code",
   "execution_count": 45,
   "metadata": {
    "collapsed": true
   },
   "outputs": [],
   "source": [
    "# Divide records in training and testing sets of 80:20 \n",
    "X_train, X_test, y_train, y_test = train_test_split(standardized_X, y, test_size=0.20, random_state=seed)"
   ]
  },
  {
   "cell_type": "markdown",
   "metadata": {},
   "source": [
    "### Logistic Regression with 80-20 train test split"
   ]
  },
  {
   "cell_type": "code",
   "execution_count": 46,
   "metadata": {},
   "outputs": [
    {
     "name": "stdout",
     "output_type": "stream",
     "text": [
      "             precision    recall  f1-score   support\n",
      "\n",
      "        0.0       0.74      0.83      0.78       126\n",
      "        1.0       0.75      0.65      0.70       103\n",
      "\n",
      "avg / total       0.75      0.75      0.74       229\n",
      "\n"
     ]
    }
   ],
   "source": [
    "logsplitmodel = LogisticRegression()\n",
    "logsplitmodel.fit(X_train,y_train)\n",
    "logsplitmodelpredictions = logsplitmodel.predict(X_test)\n",
    "print(classification_report(y_test,logsplitmodelpredictions))"
   ]
  },
  {
   "cell_type": "markdown",
   "metadata": {},
   "source": [
    "### Logistic Regression with Cross Validation"
   ]
  },
  {
   "cell_type": "code",
   "execution_count": 47,
   "metadata": {},
   "outputs": [
    {
     "name": "stdout",
     "output_type": "stream",
     "text": [
      "             precision    recall  f1-score   support\n",
      "\n",
      "        0.0       0.73      0.80      0.76       650\n",
      "        1.0       0.70      0.62      0.66       494\n",
      "\n",
      "avg / total       0.72      0.72      0.72      1144\n",
      "\n",
      "[[518 132]\n",
      " [187 307]]\n"
     ]
    }
   ],
   "source": [
    "logcvmodel = LogisticRegression()\n",
    "logcvmodel_y_pred = cross_val_predict(logcvmodel,standardized_X, y, cv=10)\n",
    "print(metrics.classification_report(y, logcvmodel_y_pred))\n",
    "print(metrics.confusion_matrix(y, logcvmodel_y_pred))"
   ]
  },
  {
   "cell_type": "code",
   "execution_count": 48,
   "metadata": {},
   "outputs": [
    {
     "name": "stdout",
     "output_type": "stream",
     "text": [
      "[ 0.69565217  0.84347826  0.74782609  0.88695652  0.76315789  0.8245614\n",
      "  0.60526316  0.52631579  0.70175439  0.61403509]\n",
      "The Cross validation score on Logistic Regression: 0.720900076278\n"
     ]
    }
   ],
   "source": [
    "# evaluate the model using 10-fold cross-validation\n",
    "#For integer/None inputs, if the estimator is a classifier \n",
    "#and y is either binary or multiclass, StratifiedKFold is used. In all other cases, KFold is used.\n",
    "\n",
    "cv_scores = cross_val_score(LogisticRegression(), standardized_X, y, scoring='accuracy', cv=10)\n",
    "print(cv_scores)\n",
    "print(\"The Cross validation score on Logistic Regression:\",cv_scores.mean())\n"
   ]
  },
  {
   "cell_type": "markdown",
   "metadata": {},
   "source": [
    "### Random Forest Classifier with 80-20 train test split"
   ]
  },
  {
   "cell_type": "code",
   "execution_count": 49,
   "metadata": {},
   "outputs": [
    {
     "name": "stdout",
     "output_type": "stream",
     "text": [
      "Random Forest Classifier:\n",
      "Accuracy is:  0.873362445415\n",
      "*****************************************************************\n",
      "Confusion matrix:\n",
      " [[114  12]\n",
      " [ 17  86]]\n",
      "*****************************************************************\n",
      "Classification Report              precision    recall  f1-score   support\n",
      "\n",
      "        0.0       0.87      0.90      0.89       126\n",
      "        1.0       0.88      0.83      0.86       103\n",
      "\n",
      "avg / total       0.87      0.87      0.87       229\n",
      "\n"
     ]
    }
   ],
   "source": [
    "rfc = RandomForestClassifier(n_estimators=100,random_state=58)     \n",
    "rfc = rfc.fit(X_train,y_train)\n",
    "rfc_pred = rfc.predict(X_test)\n",
    "ac_rfc = accuracy_score(y_test,rfc_pred)\n",
    "print('Random Forest Classifier:\\nAccuracy is: ',ac_rfc)\n",
    "print(\"*****************************************************************\\nConfusion matrix:\\n\",confusion_matrix(y_test,rfc_pred))\n",
    "print(\"*****************************************************************\\nClassification Report\",classification_report(y_test,rfc_pred))"
   ]
  },
  {
   "cell_type": "markdown",
   "metadata": {
    "collapsed": true
   },
   "source": [
    "### Random Forest Classifier with Cross Validation "
   ]
  },
  {
   "cell_type": "code",
   "execution_count": 50,
   "metadata": {},
   "outputs": [
    {
     "name": "stdout",
     "output_type": "stream",
     "text": [
      "             precision    recall  f1-score   support\n",
      "\n",
      "        0.0       0.76      0.75      0.75       650\n",
      "        1.0       0.68      0.68      0.68       494\n",
      "\n",
      "avg / total       0.72      0.72      0.72      1144\n",
      "\n",
      "[[490 160]\n",
      " [159 335]]\n"
     ]
    }
   ],
   "source": [
    "rfccvmodel = RandomForestClassifier()\n",
    "y_pred = cross_val_predict(rfccvmodel,standardized_X, y, cv=10)\n",
    "print(metrics.classification_report(y, y_pred))\n",
    "print(metrics.confusion_matrix(y, y_pred))"
   ]
  },
  {
   "cell_type": "markdown",
   "metadata": {},
   "source": [
    "### Feature ranking/Importance "
   ]
  },
  {
   "cell_type": "code",
   "execution_count": 51,
   "metadata": {},
   "outputs": [
    {
     "name": "stdout",
     "output_type": "stream",
     "text": [
      "Feature ranking:\n",
      "1. feature 6 (0.188058)\n",
      "2. feature 5 (0.186272)\n",
      "3. feature 8 (0.138219)\n",
      "4. feature 2 (0.094699)\n",
      "5. feature 9 (0.091225)\n",
      "6. feature 1 (0.071492)\n",
      "7. feature 7 (0.061930)\n",
      "8. feature 3 (0.061718)\n",
      "9. feature 4 (0.059057)\n",
      "10. feature 0 (0.047331)\n"
     ]
    }
   ],
   "source": [
    "importances = rfc.feature_importances_\n",
    "std = np.std([tree.feature_importances_ for tree in rfc.estimators_],\n",
    "             axis=0)\n",
    "indices = np.argsort(importances)[::-1]\n",
    "\n",
    "# Print the feature ranking\n",
    "print(\"Feature ranking:\")\n",
    "\n",
    "for f in range(X_train.shape[1]):\n",
    "    print(\"%d. feature %d (%f)\" % (f + 1, indices[f], importances[indices[f]]))\n"
   ]
  },
  {
   "cell_type": "markdown",
   "metadata": {
    "collapsed": true
   },
   "source": [
    "### SVM: Linear Kernel with train test split"
   ]
  },
  {
   "cell_type": "code",
   "execution_count": 52,
   "metadata": {},
   "outputs": [
    {
     "name": "stdout",
     "output_type": "stream",
     "text": [
      "             precision    recall  f1-score   support\n",
      "\n",
      "        0.0       0.78      0.80      0.79       126\n",
      "        1.0       0.75      0.73      0.74       103\n",
      "\n",
      "avg / total       0.77      0.77      0.77       229\n",
      "\n"
     ]
    }
   ],
   "source": [
    "svmlinear = SVC(kernel='linear', C = 45.42)\n",
    "svmlinear.fit(X_train, y_train)  \n",
    "y_true, y_pred = y_test, svmlinear.predict(X_test)\n",
    "print(classification_report(y_true, y_pred))"
   ]
  },
  {
   "cell_type": "markdown",
   "metadata": {},
   "source": [
    "### SVM: Linear Kernel with cross validation"
   ]
  },
  {
   "cell_type": "code",
   "execution_count": 53,
   "metadata": {},
   "outputs": [
    {
     "name": "stdout",
     "output_type": "stream",
     "text": [
      "[ 0.71304348  0.87826087  0.73043478  0.86086957  0.77192982  0.8245614\n",
      "  0.61403509  0.52631579  0.66666667  0.60526316] \n",
      "***************************************************************************\n",
      "\n",
      "The 10-fold cross-validation accuracy score for classifier is 0.72\n",
      "\n"
     ]
    }
   ],
   "source": [
    "svmcvlinear = SVC(kernel='linear', C=45.42)\n",
    "linear_cv_error = cross_val_score(svmcvlinear, standardized_X, y, cv=10)\n",
    "print(linear_cv_error,\"\\n***************************************************************************\")\n",
    "print('\\nThe {}-fold cross-validation accuracy score for classifier is {:.2f}\\n'.format(10, np.average(linear_cv_error)))"
   ]
  },
  {
   "cell_type": "markdown",
   "metadata": {},
   "source": [
    "### SVM: RBF Kernel with train test split "
   ]
  },
  {
   "cell_type": "code",
   "execution_count": 54,
   "metadata": {},
   "outputs": [
    {
     "name": "stdout",
     "output_type": "stream",
     "text": [
      "             precision    recall  f1-score   support\n",
      "\n",
      "        0.0       0.86      0.91      0.89       126\n",
      "        1.0       0.89      0.83      0.85       103\n",
      "\n",
      "avg / total       0.87      0.87      0.87       229\n",
      "\n"
     ]
    }
   ],
   "source": [
    "svmrbf = SVC(kernel='rbf', C = 16.57, gamma = 0.28383)\n",
    "svmrbf.fit(X_train, y_train)  \n",
    "y_true, y_pred = y_test, svmrbf.predict(X_test)\n",
    "print(classification_report(y_true, y_pred))"
   ]
  },
  {
   "cell_type": "markdown",
   "metadata": {},
   "source": [
    "### SVM: RBF Kernel with cross validation"
   ]
  },
  {
   "cell_type": "code",
   "execution_count": 55,
   "metadata": {},
   "outputs": [
    {
     "name": "stdout",
     "output_type": "stream",
     "text": [
      "[ 0.80869565  0.8173913   0.67826087  0.82608696  0.86842105  0.85964912\n",
      "  0.62280702  0.57894737  0.75438596  0.62280702] \n",
      "***************************************************************************\n",
      "\n",
      "The 10-fold cross-validation accuracy score for classifier is 0.74\n",
      "\n"
     ]
    }
   ],
   "source": [
    "svmcvrbf = SVC(kernel='rbf', C= 31.21,gamma=0.00827)\n",
    "rbf_cv_error = cross_val_score(svmcvrbf, standardized_X, y, cv=10)\n",
    "print(rbf_cv_error,\"\\n***************************************************************************\")\n",
    "print('\\nThe {}-fold cross-validation accuracy score for classifier is {:.2f}\\n'.format(10, np.average(rbf_cv_error)))"
   ]
  },
  {
   "cell_type": "markdown",
   "metadata": {},
   "source": [
    "### SVM Polynomial Kernel with train test split"
   ]
  },
  {
   "cell_type": "code",
   "execution_count": 56,
   "metadata": {},
   "outputs": [
    {
     "name": "stdout",
     "output_type": "stream",
     "text": [
      "             precision    recall  f1-score   support\n",
      "\n",
      "        0.0       0.82      0.91      0.86       126\n",
      "        1.0       0.88      0.76      0.81       103\n",
      "\n",
      "avg / total       0.85      0.84      0.84       229\n",
      "\n"
     ]
    }
   ],
   "source": [
    "svmpoly = SVC(kernel='poly', C = 328.342, gamma = 0.08480)\n",
    "svmpoly.fit(X_train, y_train)  \n",
    "y_true, y_pred = y_test, svmpoly.predict(X_test)\n",
    "print(classification_report(y_true, y_pred))"
   ]
  },
  {
   "cell_type": "markdown",
   "metadata": {},
   "source": [
    "### SVM Polynomial Kernel with cross validation"
   ]
  },
  {
   "cell_type": "code",
   "execution_count": 57,
   "metadata": {},
   "outputs": [
    {
     "name": "stdout",
     "output_type": "stream",
     "text": [
      "[ 0.72173913  0.87826087  0.65217391  0.86956522  0.73684211  0.72807018\n",
      "  0.61403509  0.56140351  0.70175439  0.66666667] \n",
      "***************************************************************************\n",
      "\n",
      "The 10-fold cross-validation accuracy score for classifier is 0.71\n",
      "\n"
     ]
    }
   ],
   "source": [
    "svmcvpoly = SVC(kernel='poly',C= 35.673,gamma=0.0422)\n",
    "poly_cv_error = cross_val_score(svmcvpoly, standardized_X, y, cv=10)\n",
    "print(poly_cv_error,\"\\n***************************************************************************\")\n",
    "print('\\nThe {}-fold cross-validation accuracy score for classifier is {:.2f}\\n'.format(10, np.average(poly_cv_error)))"
   ]
  },
  {
   "cell_type": "code",
   "execution_count": 58,
   "metadata": {
    "collapsed": true
   },
   "outputs": [],
   "source": [
    "n_iter_search = 10"
   ]
  },
  {
   "cell_type": "code",
   "execution_count": 20,
   "metadata": {},
   "outputs": [
    {
     "name": "stdout",
     "output_type": "stream",
     "text": [
      "{'C': 45.429656639092947}\n"
     ]
    }
   ],
   "source": [
    "#linear kernel\n",
    "C_range = scipy.stats.expon(scale=100)\n",
    "\n",
    "# specify parameters and distributions to sample from\n",
    "param_dist = {\"C\": C_range}\n",
    "\n",
    "# run randomized search\n",
    "linear = RandomizedSearchCV(SVC(kernel='linear'), param_distributions=param_dist,cv = 10, n_iter=n_iter_search,scoring='accuracy',random_state=58)\n",
    "linear.fit(X_train, y_train)\n",
    "print(linear.best_params_)"
   ]
  },
  {
   "cell_type": "code",
   "execution_count": 21,
   "metadata": {},
   "outputs": [
    {
     "name": "stdout",
     "output_type": "stream",
     "text": [
      "{'C': 45.429656639092947}\n"
     ]
    }
   ],
   "source": [
    "#linear kernel\n",
    "C_range = scipy.stats.expon(scale=100)\n",
    "\n",
    "# specify parameters and distributions to sample from\n",
    "param_dist = {\"C\": C_range}\n",
    "\n",
    "# run randomized search\n",
    "linear = RandomizedSearchCV(SVC(kernel='linear'), param_distributions=param_dist,cv = 10, n_iter=n_iter_search,scoring='accuracy',random_state=58)\n",
    "linear.fit(standardized_X, y)\n",
    "print(linear.best_params_)"
   ]
  },
  {
   "cell_type": "code",
   "execution_count": 22,
   "metadata": {},
   "outputs": [
    {
     "name": "stdout",
     "output_type": "stream",
     "text": [
      "{'C': 16.575011703131253, 'class_weight': 'balanced', 'gamma': 0.28383486379970485, 'kernel': 'rbf'}\n"
     ]
    }
   ],
   "source": [
    "#RBF kernel\n",
    "params = {'C': scipy.stats.expon(scale=100), 'gamma': scipy.stats.expon(scale=.1),'kernel': ['rbf'], 'class_weight':['balanced', None]}\n",
    "\n",
    "# specify parameters and distributions to sample from\n",
    "rbf = RandomizedSearchCV(SVC(), params, cv=10,n_iter=n_iter_search,scoring='accuracy',random_state=58)\n",
    "rbf.fit(X_train, y_train)\n",
    "print(rbf.best_params_)"
   ]
  },
  {
   "cell_type": "code",
   "execution_count": 23,
   "metadata": {},
   "outputs": [
    {
     "name": "stdout",
     "output_type": "stream",
     "text": [
      "{'C': 31.219313005785988, 'class_weight': None, 'gamma': 0.0082794569823148745, 'kernel': 'rbf'}\n"
     ]
    }
   ],
   "source": [
    "#RBF kernel\n",
    "params = {'C': scipy.stats.expon(scale=100), 'gamma': scipy.stats.expon(scale=.1),'kernel': ['rbf'], 'class_weight':['balanced', None]}\n",
    "\n",
    "# specify parameters and distributions to sample from\n",
    "rbf = RandomizedSearchCV(SVC(), params, cv=10,n_iter=n_iter_search,scoring='accuracy',random_state=58)\n",
    "rbf.fit(standardized_X, y)\n",
    "print(rbf.best_params_)"
   ]
  },
  {
   "cell_type": "code",
   "execution_count": 24,
   "metadata": {},
   "outputs": [
    {
     "name": "stdout",
     "output_type": "stream",
     "text": [
      "{'C': 328.3422467295191, 'class_weight': 'balanced', 'gamma': 0.084807518785928529, 'kernel': 'poly'}\n"
     ]
    }
   ],
   "source": [
    "#poly kernel\n",
    "params = {'C': scipy.stats.expon(scale=100), 'gamma': scipy.stats.expon(scale=.1),'kernel': ['poly'], 'class_weight':['balanced', None]}\n",
    "\n",
    "# specify parameters and distributions to sample from\n",
    "polysearch = RandomizedSearchCV(SVC(), params, cv=10,n_iter=10,scoring='accuracy',random_state=58)\n",
    "polysearch.fit(X_train, y_train)\n",
    "print(polysearch.best_params_)\n"
   ]
  },
  {
   "cell_type": "code",
   "execution_count": 25,
   "metadata": {},
   "outputs": [
    {
     "name": "stdout",
     "output_type": "stream",
     "text": [
      "{'C': 35.673738407889488, 'class_weight': 'balanced', 'gamma': 0.042273875024883292, 'kernel': 'poly'}\n"
     ]
    }
   ],
   "source": [
    "#poly kernel\n",
    "params = {'C': scipy.stats.expon(scale=100), 'gamma': scipy.stats.expon(scale=.1),'kernel': ['poly'], 'class_weight':['balanced', None]}\n",
    "\n",
    "# specify parameters and distributions to sample from\n",
    "polysearch = RandomizedSearchCV(SVC(), params, cv=10,n_iter=10,scoring='accuracy',random_state=58)\n",
    "polysearch.fit(standardized_X, y)\n",
    "print(polysearch.best_params_)"
   ]
  },
  {
   "cell_type": "code",
   "execution_count": 39,
   "metadata": {},
   "outputs": [
    {
     "name": "stdout",
     "output_type": "stream",
     "text": [
      "Accuracy: 0.69 (+/- 0.11) [Logistic Regression]\n",
      "Accuracy: 0.71 (+/- 0.09) [Random Forest]\n",
      "Accuracy: 0.71 (+/- 0.08) [Ensemble]\n"
     ]
    }
   ],
   "source": [
    "from sklearn.ensemble import VotingClassifier\n",
    "eclf = VotingClassifier(estimators=[('lr', logcvmodel), ('rf', rfcmodel)], voting='hard')\n",
    "for clf, label in zip([logcvmodel, rfcmodel, eclf], ['Logistic Regression', 'Random Forest', 'Ensemble']):\n",
    "    scores = cross_val_score(eclf, standardized_X, y, cv=10, scoring='accuracy')\n",
    "    print(\"Accuracy: %0.2f (+/- %0.2f) [%s]\" % (scores.mean(), scores.std(), label))"
   ]
  },
  {
   "cell_type": "code",
   "execution_count": 69,
   "metadata": {},
   "outputs": [
    {
     "name": "stdout",
     "output_type": "stream",
     "text": [
      "0.739282990084\n"
     ]
    }
   ],
   "source": [
    "# Voting Ensemble for Classification\n",
    "from sklearn import model_selection\n",
    "\n",
    "seed = 58\n",
    "kfold = model_selection.KFold(n_splits=10, random_state=seed)\n",
    "# create the sub models\n",
    "estimators = []\n",
    "estimators.append(('logistic', logcvmodel))\n",
    "estimators.append(('randomforest', rfccvmodel))\n",
    "estimators.append(('svmlinear', svmcvlinear))\n",
    "estimators.append(('svmrbf', svmcvrbf))\n",
    "estimators.append(('svmpoly', svmcvpoly))\n",
    "# create the ensemble model\n",
    "ensemble = VotingClassifier(estimators, voting='hard')\n",
    "results = model_selection.cross_val_score(ensemble, standardized_X, y, cv=kfold)\n",
    "print(results.mean())"
   ]
  }
 ],
 "metadata": {
  "kernelspec": {
   "display_name": "Python 3",
   "language": "python",
   "name": "python3"
  },
  "language_info": {
   "codemirror_mode": {
    "name": "ipython",
    "version": 3
   },
   "file_extension": ".py",
   "mimetype": "text/x-python",
   "name": "python",
   "nbconvert_exporter": "python",
   "pygments_lexer": "ipython3",
   "version": "3.6.3"
  }
 },
 "nbformat": 4,
 "nbformat_minor": 2
}
