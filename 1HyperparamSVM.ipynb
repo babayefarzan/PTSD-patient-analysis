{
 "cells": [
  {
   "cell_type": "code",
   "execution_count": 1,
   "metadata": {},
   "outputs": [
    {
     "name": "stderr",
     "output_type": "stream",
     "text": [
      "/anaconda3/lib/python3.6/site-packages/sklearn/cross_validation.py:41: DeprecationWarning: This module was deprecated in version 0.18 in favor of the model_selection module into which all the refactored classes and functions are moved. Also note that the interface of the new CV iterators are different from that of this module. This module will be removed in 0.20.\n",
      "  \"This module will be removed in 0.20.\", DeprecationWarning)\n"
     ]
    }
   ],
   "source": [
    "import pandas as pd\n",
    "import numpy as np\n",
    "import scipy\n",
    "import sklearn.svm\n",
    "from sklearn import preprocessing\n",
    "from sklearn.model_selection import train_test_split\n",
    "from sklearn.linear_model import LogisticRegression\n",
    "from sklearn.metrics import confusion_matrix\n",
    "from sklearn.metrics import classification_report\n",
    "from sklearn.metrics import accuracy_score\n",
    "from sklearn.model_selection import cross_val_predict\n",
    "from sklearn import metrics\n",
    "import sklearn.metrics\n",
    "from sklearn.cross_validation import cross_val_score\n",
    "from sklearn.ensemble import ExtraTreesClassifier\n",
    "from sklearn.ensemble import RandomForestClassifier\n",
    "from sklearn.tree import DecisionTreeClassifier\n",
    "from sklearn.svm import SVC\n",
    "from sklearn.metrics import accuracy_score\n",
    "from sklearn.ensemble import VotingClassifier\n",
    "from sklearn.model_selection import RandomizedSearchCV\n",
    "\n",
    "from sklearn.metrics import average_precision_score\n",
    "from sklearn.metrics import precision_recall_curve\n",
    "import matplotlib.pyplot as plt\n",
    "\n",
    "from matplotlib import pyplot as plt\n",
    "from sklearn.metrics import f1_score\n",
    "%matplotlib inline"
   ]
  },
  {
   "cell_type": "code",
   "execution_count": 3,
   "metadata": {},
   "outputs": [],
   "source": [
    "data_df = pd.read_csv('data_process1.csv')\n",
    "dataset = data_df\n",
    "dataset = data_df.as_matrix()\n",
    "X = dataset[:,0:11]\n",
    "#last column is the target\n",
    "y = dataset[:,11:12]\n",
    "# Standardize data\n",
    "standardized_X = preprocessing.scale(X)\n",
    "\n",
    "seed = 58\n",
    "results =[]\n",
    "n_iter_search = 10"
   ]
  },
  {
   "cell_type": "code",
   "execution_count": 5,
   "metadata": {},
   "outputs": [
    {
     "name": "stdout",
     "output_type": "stream",
     "text": [
      "{'C': 60.003198231758972}\n"
     ]
    }
   ],
   "source": [
    "#linear kernel\n",
    "C_range = scipy.stats.expon(scale=100)\n",
    "\n",
    "# specify parameters and distributions to sample from\n",
    "param_dist = {\"C\": C_range}\n",
    "\n",
    "# run randomized search\n",
    "linear = RandomizedSearchCV(SVC(kernel='linear'), param_distributions=param_dist,cv = 10, n_iter=n_iter_search,scoring='accuracy',random_state=58)\n",
    "linear.fit(standardized_X, y.ravel())\n",
    "print(linear.best_params_)"
   ]
  },
  {
   "cell_type": "code",
   "execution_count": 7,
   "metadata": {},
   "outputs": [
    {
     "name": "stdout",
     "output_type": "stream",
     "text": [
      "{'C': 31.219313005785988, 'class_weight': None, 'gamma': 0.0082794569823148745, 'kernel': 'rbf'}\n"
     ]
    }
   ],
   "source": [
    "#RBF kernel\n",
    "params = {'C': scipy.stats.expon(scale=100), 'gamma': scipy.stats.expon(scale=.1),'kernel': ['rbf'], 'class_weight':['balanced', None]}\n",
    "\n",
    "# specify parameters and distributions to sample from\n",
    "rbf = RandomizedSearchCV(SVC(), params, cv=10,n_iter=n_iter_search,scoring='accuracy',random_state=58)\n",
    "rbf.fit(standardized_X, y.ravel())\n",
    "print(rbf.best_params_)"
   ]
  },
  {
   "cell_type": "code",
   "execution_count": 8,
   "metadata": {},
   "outputs": [
    {
     "name": "stdout",
     "output_type": "stream",
     "text": [
      "{'C': 35.673738407889488, 'class_weight': 'balanced', 'gamma': 0.042273875024883292, 'kernel': 'poly'}\n"
     ]
    }
   ],
   "source": [
    "#poly kernel\n",
    "params = {'C': scipy.stats.expon(scale=100), 'gamma': scipy.stats.expon(scale=.1),'kernel': ['poly'], 'class_weight':['balanced', None]}\n",
    "\n",
    "# specify parameters and distributions to sample from\n",
    "polysearch = RandomizedSearchCV(SVC(), params, cv=10,n_iter=10,scoring='accuracy',random_state=58)\n",
    "polysearch.fit(standardized_X, y.ravel())\n",
    "print(polysearch.best_params_)"
   ]
  },
  {
   "cell_type": "code",
   "execution_count": null,
   "metadata": {
    "collapsed": true
   },
   "outputs": [],
   "source": []
  }
 ],
 "metadata": {
  "kernelspec": {
   "display_name": "Python 3",
   "language": "python",
   "name": "python3"
  },
  "language_info": {
   "codemirror_mode": {
    "name": "ipython",
    "version": 3
   },
   "file_extension": ".py",
   "mimetype": "text/x-python",
   "name": "python",
   "nbconvert_exporter": "python",
   "pygments_lexer": "ipython3",
   "version": "3.6.3"
  }
 },
 "nbformat": 4,
 "nbformat_minor": 2
}
