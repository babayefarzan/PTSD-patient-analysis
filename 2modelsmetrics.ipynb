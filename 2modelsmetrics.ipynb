{
 "cells": [
  {
   "cell_type": "code",
   "execution_count": 1,
   "metadata": {},
   "outputs": [
    {
     "name": "stderr",
     "output_type": "stream",
     "text": [
      "/anaconda3/lib/python3.6/site-packages/sklearn/cross_validation.py:41: DeprecationWarning: This module was deprecated in version 0.18 in favor of the model_selection module into which all the refactored classes and functions are moved. Also note that the interface of the new CV iterators are different from that of this module. This module will be removed in 0.20.\n",
      "  \"This module will be removed in 0.20.\", DeprecationWarning)\n"
     ]
    }
   ],
   "source": [
    "import pandas as pd\n",
    "import numpy as np\n",
    "import scipy\n",
    "import sklearn.svm\n",
    "from sklearn import preprocessing\n",
    "from sklearn.model_selection import train_test_split\n",
    "from sklearn.linear_model import LogisticRegression\n",
    "from sklearn.metrics import confusion_matrix\n",
    "from sklearn.metrics import classification_report\n",
    "from sklearn.metrics import accuracy_score\n",
    "from sklearn.model_selection import cross_val_predict\n",
    "from sklearn import metrics\n",
    "import sklearn.metrics\n",
    "from sklearn.cross_validation import cross_val_score\n",
    "from sklearn.ensemble import ExtraTreesClassifier\n",
    "from sklearn.ensemble import RandomForestClassifier\n",
    "from sklearn.tree import DecisionTreeClassifier\n",
    "from sklearn.svm import SVC\n",
    "from sklearn.metrics import accuracy_score\n",
    "from sklearn.ensemble import VotingClassifier\n",
    "from sklearn.model_selection import RandomizedSearchCV\n",
    "\n",
    "from sklearn.metrics import average_precision_score\n",
    "from sklearn.metrics import precision_recall_curve\n",
    "import matplotlib.pyplot as plt\n",
    "import numpy as np\n",
    "from sklearn.linear_model import LogisticRegression\n",
    "from sklearn.naive_bayes import GaussianNB\n",
    "from sklearn.ensemble import RandomForestClassifier, VotingClassifier\n",
    "from sklearn import cross_validation\n",
    "\n",
    "\n",
    "from sklearn.metrics import f1_score\n",
    "%matplotlib inline"
   ]
  },
  {
   "cell_type": "code",
   "execution_count": 2,
   "metadata": {
    "collapsed": true
   },
   "outputs": [],
   "source": [
    "data_df = pd.read_csv('data_process1.csv')\n",
    "dataset = data_df"
   ]
  },
  {
   "cell_type": "code",
   "execution_count": 3,
   "metadata": {
    "collapsed": true
   },
   "outputs": [],
   "source": [
    "#Creating k folds\n",
    "def fold_i_of_k(dataset, i, k):\n",
    "    n = len(dataset)\n",
    "    return len(dataset[n*(i-1)//k:n*i//k])"
   ]
  },
  {
   "cell_type": "code",
   "execution_count": 4,
   "metadata": {},
   "outputs": [
    {
     "name": "stdout",
     "output_type": "stream",
     "text": [
      "Accuracy for fold  1 is:  0.728070175439\n",
      "Accuracy for fold  2 is:  0.964912280702\n",
      "Accuracy for fold  3 is:  0.721739130435\n",
      "Accuracy for fold  4 is:  0.824561403509\n",
      "Accuracy for fold  5 is:  0.878260869565\n",
      "Accuracy for fold  6 is:  0.798245614035\n",
      "Accuracy for fold  7 is:  0.5\n",
      "Accuracy for fold  8 is:  0.660869565217\n",
      "Accuracy for fold  9 is:  0.517543859649\n",
      "Accuracy for fold  10 is:  0.565217391304\n",
      "\n",
      "Cross validation accuracy of Logistic Regression is:  0.715942028986\n",
      "F1 score of Logistic Regression is:  0.712815116536\n"
     ]
    },
    {
     "data": {
      "text/plain": [
       "Text(0.5,1,'2-class Precision-Recall curve: AP=0.65')"
      ]
     },
     "execution_count": 4,
     "metadata": {},
     "output_type": "execute_result"
    },
    {
     "data": {
      "image/png": "[encoded data removed]",
      "text/plain": [
       "<matplotlib.figure.Figure at 0x114ca3c88>"
      ]
     },
     "metadata": {},
     "output_type": "display_data"
    }
   ],
   "source": [
    "#Logistic Regression\n",
    "#Constants\n",
    "FOLD_I = 1\n",
    "FOLD_K =10\n",
    "\n",
    "#Creating 10 folds\n",
    "result_pred = np.array([])\n",
    "result_score = np.array([])\n",
    "y = np.array([])\n",
    "counter = 1\n",
    "s=0\n",
    "total_ac = 0\n",
    "total_f = 0\n",
    "while counter!=FOLD_K+1:\n",
    "    fold = fold_i_of_k(dataset,counter,10)\n",
    "    d_fold = dataset[s:s + fold]\n",
    "  \n",
    "    d_test = d_fold\n",
    "    X_test = d_test.iloc[:,0:11]\n",
    "    y_test = d_test.iloc[:,11:12]\n",
    "    d_train = dataset.drop(dataset.index[s:s+fold])\n",
    "    X_train = d_train.iloc[:,0:11]\n",
    "    y_train = d_train.iloc[:,11:12]\n",
    " \n",
    "    X_train = X_train.as_matrix()\n",
    "    X_train = preprocessing.scale(X_train)\n",
    "    \n",
    "    y_train = y_train.as_matrix()\n",
    "    y_train = y_train.ravel()\n",
    "    \n",
    "    X_test = X_test.as_matrix()\n",
    "    X_test = preprocessing.scale(X_test)\n",
    "    \n",
    "    y_test = y_test.as_matrix()\n",
    "    y_test = y_test.ravel()\n",
    "    y = np.concatenate((y,y_test))\n",
    "\n",
    "    lr = LogisticRegression()\n",
    "    lr.fit(X_train,y_train)\n",
    "    lr_pred = lr.predict(X_test)\n",
    "    result_pred = np.concatenate((result_pred,lr_pred))\n",
    "    \n",
    "    y_score = lr.decision_function(X_test)\n",
    "    result_score = np.concatenate((result_score,y_score))\n",
    "   \n",
    "    ac = accuracy_score(y_test,lr_pred)\n",
    "    print(\"Accuracy for fold \",counter,\"is: \",ac);\n",
    "    f = f1_score(y_test, lr_pred, average='weighted')\n",
    "    total_f = total_f+f\n",
    "    total_ac = total_ac + ac\n",
    "    s = s + fold \n",
    "    counter= counter+1\n",
    "total_f = total_f /  FOLD_K  \n",
    "total_ac = total_ac / FOLD_K\n",
    "print(\"\\nCross validation accuracy of Logistic Regression is: \",total_ac)\n",
    "print(\"F1 score of Logistic Regression is: \",total_f)\n",
    "\n",
    "#**************Precision-Recall curve******************/\n",
    "\n",
    "\n",
    "precision, recall, _ = precision_recall_curve(y, result_score)\n",
    "average_precision = average_precision_score(y, result_score)\n",
    "plt.step(recall, precision, color='b', alpha=0.2,where='post')\n",
    "plt.fill_between(recall, precision, step='post', alpha=0.2,color='g')\n",
    "\n",
    "plt.xlabel('Recall')\n",
    "plt.ylabel('Precision')\n",
    "plt.ylim([0.0, 1.05])\n",
    "plt.xlim([0.0, 1.0])\n",
    "plt.title('2-class Precision-Recall curve: AP={0:0.2f}'.format(average_precision))"
   ]
  },
  {
   "cell_type": "code",
   "execution_count": 5,
   "metadata": {},
   "outputs": [
    {
     "name": "stdout",
     "output_type": "stream",
     "text": [
      "Fold  1\n",
      "0.728070175439\n",
      "Fold  2\n",
      "0.859649122807\n",
      "Fold  3\n",
      "0.695652173913\n",
      "Fold  4\n",
      "0.80701754386\n",
      "Fold  5\n",
      "0.826086956522\n",
      "Fold  6\n",
      "0.684210526316\n",
      "Fold  7\n",
      "0.578947368421\n",
      "Fold  8\n",
      "0.573913043478\n",
      "Fold  9\n",
      "0.535087719298\n",
      "Fold  10\n",
      "0.634782608696\n",
      "Cross validation decision tree accuracy is:  0.692341723875\n",
      "F1 score is:  0.693695841053\n"
     ]
    },
    {
     "data": {
      "text/plain": [
       "Text(0.5,1,'2-class Precision-Recall curve: AP=0.65')"
      ]
     },
     "execution_count": 5,
     "metadata": {},
     "output_type": "execute_result"
    },
    {
     "data": {
      "image/png": "[encoded data removed]",
      "text/plain": [
       "<matplotlib.figure.Figure at 0x114ca8860>"
      ]
     },
     "metadata": {},
     "output_type": "display_data"
    }
   ],
   "source": [
    "#Decision Tree\n",
    "from sklearn.tree import DecisionTreeClassifier\n",
    "\n",
    "#Constants\n",
    "FOLD_I = 1\n",
    "FOLD_K =10\n",
    "\n",
    "#Creating 10 folds\n",
    "result_pred = np.array([])\n",
    "result_score = np.array([])\n",
    "y = np.array([])\n",
    "counter = 1\n",
    "s=0\n",
    "total_ac = 0\n",
    "total_f = 0\n",
    "while counter!=FOLD_K+1:\n",
    "    print(\"Fold \",counter)\n",
    "    fold = fold_i_of_k(dataset,counter,10)\n",
    "    d_fold = dataset[s:s + fold]\n",
    "    d_test = d_fold\n",
    "    X_test = d_test.iloc[:,0:11]\n",
    "    y_test = d_test.iloc[:,11:12]\n",
    "    d_train = dataset.drop(dataset.index[s:s+fold])\n",
    "    X_train = d_train.iloc[:,0:11]\n",
    "    y_train = d_train.iloc[:,11:12]\n",
    " \n",
    "    X_train = X_train.as_matrix()\n",
    "    X_train = preprocessing.scale(X_train)\n",
    "    \n",
    "    y_train = y_train.as_matrix()\n",
    "    y_train = y_train.ravel()\n",
    "    \n",
    "    X_test = X_test.as_matrix()\n",
    "    X_test = preprocessing.scale(X_test)\n",
    "    \n",
    "    y_test = y_test.as_matrix()\n",
    "    y_test = y_test.ravel()\n",
    "    y = np.concatenate((y,y_test))\n",
    "\n",
    "    dt = DecisionTreeClassifier()\n",
    "    dt.fit(X_train,y_train)\n",
    "    dt_pred = dt.predict(X_test)\n",
    "    result_pred = np.concatenate((result_pred,dt_pred))\n",
    "\n",
    "    y_scores = dt.predict_proba(X_test)[:, 1]\n",
    "    result_score = np.concatenate((result_score,y_scores))\n",
    "    ac = accuracy_score(y_test,dt_pred)\n",
    "    print(ac)\n",
    "    f = f1_score(y_test, dt_pred, average='weighted')\n",
    "    total_f = total_f+f\n",
    "    total_ac = total_ac + ac\n",
    "    s = s + fold \n",
    "    counter= counter+1\n",
    "total_f = total_f /  FOLD_K  \n",
    "total_ac = total_ac / FOLD_K\n",
    "\n",
    "print(\"Cross validation decision tree accuracy is: \",total_ac)\n",
    "print(\"F1 score is: \",total_f)\n",
    "precision, recall, _ = precision_recall_curve(y, result_score)\n",
    "\n",
    "plt.step(recall, precision, color='b', alpha=0.2,where='post')\n",
    "plt.fill_between(recall, precision, step='post', alpha=0.2,color='g')\n",
    "\n",
    "plt.xlabel('Recall')\n",
    "plt.ylabel('Precision')\n",
    "plt.ylim([0.0, 1.05])\n",
    "plt.xlim([0.0, 1.0])\n",
    "plt.title('2-class Precision-Recall curve: AP={0:0.2f}'.format(average_precision))"
   ]
  },
  {
   "cell_type": "code",
   "execution_count": 6,
   "metadata": {},
   "outputs": [
    {
     "name": "stdout",
     "output_type": "stream",
     "text": [
      "Fold  1\n",
      "0.798245614035\n",
      "Fold  2\n",
      "0.947368421053\n",
      "Fold  3\n",
      "0.695652173913\n",
      "Fold  4\n",
      "0.780701754386\n",
      "Fold  5\n",
      "0.817391304348\n",
      "Fold  6\n",
      "0.798245614035\n",
      "Fold  7\n",
      "0.578947368421\n",
      "Fold  8\n",
      "0.547826086957\n",
      "Fold  9\n",
      "0.535087719298\n",
      "Fold  10\n",
      "0.652173913043\n",
      "Cross validation random forest accuracy is:  0.715163996949\n",
      "F1 score is:  0.715089818539\n"
     ]
    },
    {
     "data": {
      "text/plain": [
       "Text(0.5,1,'2-class Precision-Recall curve: AP=0.65')"
      ]
     },
     "execution_count": 6,
     "metadata": {},
     "output_type": "execute_result"
    },
    {
     "data": {
      "image/png": "[encoded data removed]",
      "text/plain": [
       "<matplotlib.figure.Figure at 0x114ca89e8>"
      ]
     },
     "metadata": {},
     "output_type": "display_data"
    }
   ],
   "source": [
    "##Random Forest\n",
    "#Constants\n",
    "FOLD_I = 1\n",
    "FOLD_K =10\n",
    "\n",
    "#Creating 10 folds\n",
    "result_pred = np.array([])\n",
    "result_score = np.array([])\n",
    "y = np.array([])\n",
    "counter = 1\n",
    "s=0\n",
    "total_ac = 0\n",
    "total_f = 0\n",
    "while counter!=FOLD_K+1:\n",
    "    print(\"Fold \",counter)\n",
    "    fold = fold_i_of_k(dataset,counter,10)\n",
    "    d_fold = dataset[s:s + fold]\n",
    "    d_test = d_fold\n",
    "    X_test = d_test.iloc[:,0:11]\n",
    "    y_test = d_test.iloc[:,11:12]\n",
    "    d_train = dataset.drop(dataset.index[s:s+fold])\n",
    "    X_train = d_train.iloc[:,0:11]\n",
    "    y_train = d_train.iloc[:,11:12]\n",
    " \n",
    "    X_train = X_train.as_matrix()\n",
    "    X_train = preprocessing.scale(X_train)\n",
    "    \n",
    "    y_train = y_train.as_matrix()\n",
    "    y_train = y_train.ravel()\n",
    "    \n",
    "    X_test = X_test.as_matrix()\n",
    "    X_test = preprocessing.scale(X_test)\n",
    "    \n",
    "    y_test = y_test.as_matrix()\n",
    "    y_test = y_test.ravel()\n",
    "    y = np.concatenate((y,y_test))\n",
    "\n",
    "    rfc = RandomForestClassifier()\n",
    "    rfc.fit(X_train,y_train)\n",
    "    rfc_pred = rfc.predict(X_test)\n",
    "    result_pred = np.concatenate((result_pred,rfc_pred))\n",
    "\n",
    "    y_scores = rfc.predict_proba(X_test)[:, 1]\n",
    "    result_score = np.concatenate((result_score,y_scores))\n",
    "    ac = accuracy_score(y_test,rfc_pred)\n",
    "    print(ac)\n",
    "    f = f1_score(y_test, rfc_pred, average='weighted')\n",
    "    total_f = total_f+f\n",
    "    total_ac = total_ac + ac\n",
    "    s = s + fold \n",
    "    counter= counter+1\n",
    "total_f = total_f /  FOLD_K  \n",
    "total_ac = total_ac / FOLD_K\n",
    "\n",
    "print(\"Cross validation random forest accuracy is: \",total_ac)\n",
    "print(\"F1 score is: \",total_f)\n",
    "precision, recall, _ = precision_recall_curve(y, result_score)\n",
    "\n",
    "plt.step(recall, precision, color='b', alpha=0.2,where='post')\n",
    "plt.fill_between(recall, precision, step='post', alpha=0.2,color='g')\n",
    "\n",
    "plt.xlabel('Recall')\n",
    "plt.ylabel('Precision')\n",
    "plt.ylim([0.0, 1.05])\n",
    "plt.xlim([0.0, 1.0])\n",
    "plt.title('2-class Precision-Recall curve: AP={0:0.2f}'.format(average_precision))"
   ]
  },
  {
   "cell_type": "code",
   "execution_count": 7,
   "metadata": {},
   "outputs": [
    {
     "name": "stdout",
     "output_type": "stream",
     "text": [
      "Fold  1\n",
      "0.684210526316\n",
      "Fold  2\n",
      "0.938596491228\n",
      "Fold  3\n",
      "0.791304347826\n",
      "Fold  4\n",
      "0.824561403509\n",
      "Fold  5\n",
      "0.895652173913\n",
      "Fold  6\n",
      "0.570175438596\n",
      "Fold  7\n",
      "0.789473684211\n",
      "Fold  8\n",
      "0.608695652174\n",
      "Fold  9\n",
      "0.491228070175\n",
      "Fold  10\n",
      "0.634782608696\n",
      "Cross validation accuracy for linear svm is:  0.722868039664\n",
      "F1 score is:  0.723919596434\n"
     ]
    },
    {
     "data": {
      "text/plain": [
       "Text(0.5,1,'2-class Precision-Recall curve: AP=0.66')"
      ]
     },
     "execution_count": 7,
     "metadata": {},
     "output_type": "execute_result"
    },
    {
     "data": {
      "image/png": "[encoded data removed]",
      "text/plain": [
       "<matplotlib.figure.Figure at 0x114ca7fd0>"
      ]
     },
     "metadata": {},
     "output_type": "display_data"
    }
   ],
   "source": [
    "#SVM Linear\n",
    "#Constants\n",
    "FOLD_I = 1\n",
    "FOLD_K =10\n",
    "\n",
    "#Creating 10 folds\n",
    "result_pred = np.array([])\n",
    "result_score = np.array([])\n",
    "y = np.array([])\n",
    "counter = 1\n",
    "s=0\n",
    "total_ac = 0\n",
    "total_f = 0\n",
    "while counter!=FOLD_K+1:\n",
    "    print(\"Fold \",counter)\n",
    "    fold = fold_i_of_k(dataset,counter,10)\n",
    "    d_fold = dataset[s:s + fold]\n",
    "    d_test = d_fold\n",
    "    X_test = d_test.iloc[:,0:11]\n",
    "    y_test = d_test.iloc[:,11:12]\n",
    "    d_train = dataset.drop(dataset.index[s:s+fold])\n",
    "    X_train = d_train.iloc[:,0:11]\n",
    "    y_train = d_train.iloc[:,11:12]\n",
    " \n",
    "    X_train = X_train.as_matrix()\n",
    "    X_train = preprocessing.scale(X_train)\n",
    "    \n",
    "    y_train = y_train.as_matrix()\n",
    "    y_train = y_train.ravel()\n",
    "    \n",
    "    X_test = X_test.as_matrix()\n",
    "    X_test = preprocessing.scale(X_test)\n",
    "    \n",
    "    y_test = y_test.as_matrix()\n",
    "    y_test = y_test.ravel()\n",
    "    y = np.concatenate((y,y_test))\n",
    "\n",
    "    linearsvm = SVC(kernel='linear', C=60.00319,probability=True)\n",
    "    linearsvm.fit(X_train,y_train)\n",
    "    linearsvm_pred = dt.predict(X_test)\n",
    "    result_pred = np.concatenate((result_pred,linearsvm_pred))\n",
    "\n",
    "    y_score = linearsvm.decision_function(X_test)\n",
    "    result_score = np.concatenate((result_score,y_score))\n",
    "\n",
    "    ac = accuracy_score(y_test,linearsvm_pred)\n",
    "    print(ac);\n",
    "    f = f1_score(y_test, linearsvm_pred, average='weighted')\n",
    "    total_f = total_f+f\n",
    "    total_ac = total_ac + ac\n",
    "    s = s + fold \n",
    "    counter= counter+1\n",
    "total_f = total_f /  FOLD_K  \n",
    "total_ac = total_ac / FOLD_K\n",
    "\n",
    "print(\"Cross validation accuracy for linear svm is: \",total_ac)\n",
    "print(\"F1 score is: \",total_f)\n",
    "\n",
    "#Linear SVM\n",
    "average_precision = average_precision_score(y, result_score)\n",
    "precision, recall, _ = precision_recall_curve(y, result_score)\n",
    "plt.step(recall, precision, color='b', alpha=0.2,where='post')\n",
    "plt.fill_between(recall, precision, step='post', alpha=0.2,color='r')\n",
    "plt.xlabel('Recall')\n",
    "plt.ylabel('Precision')\n",
    "plt.ylim([0.0, 1.05])\n",
    "plt.xlim([0.0, 1.0])\n",
    "plt.title('2-class Precision-Recall curve: AP={0:0.2f}'.format(average_precision))"
   ]
  },
  {
   "cell_type": "code",
   "execution_count": 8,
   "metadata": {},
   "outputs": [
    {
     "name": "stdout",
     "output_type": "stream",
     "text": [
      "Fold  1\n",
      "0.69298245614\n",
      "Fold  2\n",
      "0.956140350877\n",
      "Fold  3\n",
      "0.713043478261\n",
      "Fold  4\n",
      "0.798245614035\n",
      "Fold  5\n",
      "0.886956521739\n",
      "Fold  6\n",
      "0.798245614035\n",
      "Fold  7\n",
      "0.605263157895\n",
      "Fold  8\n",
      "0.678260869565\n",
      "Fold  9\n",
      "0.456140350877\n",
      "Fold  10\n",
      "0.6\n",
      "Cross validation accuracy for rbf svm is:  0.718527841342\n",
      "F1 score is:  0.719426361631\n"
     ]
    },
    {
     "data": {
      "text/plain": [
       "Text(0.5,1,'2-class Precision-Recall curve: AP=0.63')"
      ]
     },
     "execution_count": 8,
     "metadata": {},
     "output_type": "execute_result"
    },
    {
     "data": {
      "image/png": "[encoded data removed]",
      "text/plain": [
       "<matplotlib.figure.Figure at 0x114c2f860>"
      ]
     },
     "metadata": {},
     "output_type": "display_data"
    }
   ],
   "source": [
    "#Rbf SVM\n",
    "#Constants\n",
    "FOLD_I = 1\n",
    "FOLD_K =10\n",
    "\n",
    "#Creating 10 folds\n",
    "result_pred = np.array([])\n",
    "result_score = np.array([])\n",
    "y = np.array([])\n",
    "counter = 1\n",
    "s=0\n",
    "total_ac = 0\n",
    "total_f = 0\n",
    "while counter!=FOLD_K+1:\n",
    "    print(\"Fold \",counter)\n",
    "    fold = fold_i_of_k(dataset,counter,10)\n",
    "    d_fold = dataset[s:s + fold]\n",
    "    d_test = d_fold\n",
    "    X_test = d_test.iloc[:,0:11]\n",
    "    y_test = d_test.iloc[:,11:12]\n",
    "    d_train = dataset.drop(dataset.index[s:s+fold])\n",
    "    X_train = d_train.iloc[:,0:11]\n",
    "    y_train = d_train.iloc[:,11:12]\n",
    " \n",
    "    X_train = X_train.as_matrix()\n",
    "    X_train = preprocessing.scale(X_train)\n",
    "    \n",
    "    y_train = y_train.as_matrix()\n",
    "    y_train = y_train.ravel()\n",
    "    \n",
    "    X_test = X_test.as_matrix()\n",
    "    X_test = preprocessing.scale(X_test)\n",
    "    \n",
    "    y_test = y_test.as_matrix()\n",
    "    y_test = y_test.ravel()\n",
    "    y = np.concatenate((y,y_test))\n",
    "    rbfsvm = SVC(kernel='rbf', C= 31.2193,gamma=0.00827,probability=True)\n",
    "    rbfsvm.fit(X_train,y_train)\n",
    "    rbfsvm_pred = rbfsvm.predict(X_test)\n",
    "    result_pred = np.concatenate((result_pred,rbfsvm_pred))\n",
    "    y_score = rbfsvm.decision_function(X_test)\n",
    "    result_score = np.concatenate((result_score,y_score))\n",
    "    ac = accuracy_score(y_test,rbfsvm_pred)\n",
    "    print(ac);\n",
    "    f = f1_score(y_test, rbfsvm_pred, average='weighted')\n",
    "    total_f = total_f+f\n",
    "    total_ac = total_ac + ac\n",
    "    s = s + fold \n",
    "    counter= counter+1\n",
    "total_f = total_f /  FOLD_K  \n",
    "total_ac = total_ac / FOLD_K\n",
    "\n",
    "print(\"Cross validation accuracy for rbf svm is: \",total_ac)\n",
    "print(\"F1 score is: \",total_f)\n",
    "\n",
    "average_precision = average_precision_score(y, result_score)\n",
    "precision, recall, _ = precision_recall_curve(y, result_score)\n",
    "plt.step(recall, precision, color='b', alpha=0.2,where='post')\n",
    "plt.fill_between(recall, precision, step='post', alpha=0.2,color='y')\n",
    "plt.xlabel('Recall')\n",
    "plt.ylabel('Precision')\n",
    "plt.ylim([0.0, 1.05])\n",
    "plt.xlim([0.0, 1.0])\n",
    "plt.title('2-class Precision-Recall curve: AP={0:0.2f}'.format(average_precision))"
   ]
  },
  {
   "cell_type": "code",
   "execution_count": 9,
   "metadata": {},
   "outputs": [
    {
     "name": "stdout",
     "output_type": "stream",
     "text": [
      "Fold  1\n",
      "0.666666666667\n",
      "Fold  2\n",
      "0.973684210526\n",
      "Fold  3\n",
      "0.713043478261\n",
      "Fold  4\n",
      "0.754385964912\n",
      "Fold  5\n",
      "0.834782608696\n",
      "Fold  6\n",
      "0.815789473684\n",
      "Fold  7\n",
      "0.517543859649\n",
      "Fold  8\n",
      "0.573913043478\n",
      "Fold  9\n",
      "0.438596491228\n",
      "Fold  10\n",
      "0.504347826087\n",
      "Cross validation accuracy for poly svm is:  0.679275362319\n",
      "F1 score is:  0.67888557731\n"
     ]
    },
    {
     "data": {
      "text/plain": [
       "Text(0.5,1,'2-class Precision-Recall curve: AP=0.62')"
      ]
     },
     "execution_count": 9,
     "metadata": {},
     "output_type": "execute_result"
    },
    {
     "data": {
      "image/png": "[encoded data removed]",
      "text/plain": [
       "<matplotlib.figure.Figure at 0x114bee320>"
      ]
     },
     "metadata": {},
     "output_type": "display_data"
    }
   ],
   "source": [
    "#Polynomial SVM\n",
    "#Constants\n",
    "FOLD_I = 1\n",
    "FOLD_K =10\n",
    "\n",
    "#Creating 10 folds\n",
    "result_pred = np.array([])\n",
    "result_score = np.array([])\n",
    "y = np.array([])\n",
    "counter = 1\n",
    "s=0\n",
    "total_ac = 0\n",
    "total_f = 0\n",
    "while counter!=FOLD_K+1:\n",
    "    print(\"Fold \",counter)\n",
    "    fold = fold_i_of_k(dataset,counter,10)\n",
    "    d_fold = dataset[s:s + fold]\n",
    "    d_test = d_fold\n",
    "    X_test = d_test.iloc[:,0:11]\n",
    "    y_test = d_test.iloc[:,11:12]\n",
    "    d_train = dataset.drop(dataset.index[s:s+fold])\n",
    "    X_train = d_train.iloc[:,0:11]\n",
    "    y_train = d_train.iloc[:,11:12]\n",
    " \n",
    "    X_train = X_train.as_matrix()\n",
    "    X_train = preprocessing.scale(X_train)\n",
    "    \n",
    "    y_train = y_train.as_matrix()\n",
    "    y_train = y_train.ravel()\n",
    "    \n",
    "    X_test = X_test.as_matrix()\n",
    "    X_test = preprocessing.scale(X_test)\n",
    "    \n",
    "    y_test = y_test.as_matrix()\n",
    "    y_test = y_test.ravel()\n",
    "    y = np.concatenate((y,y_test))\n",
    "    polysvm = SVC(kernel='poly',C= 35.6737,gamma=0.04227,probability=True)\n",
    "    polysvm.fit(X_train,y_train)\n",
    "    polysvm_pred = polysvm.predict(X_test)\n",
    "    result_pred = np.concatenate((result_pred,polysvm_pred))\n",
    "  \n",
    "    y_score = polysvm.decision_function(X_test)\n",
    "    result_score = np.concatenate((result_score,y_score))\n",
    "    ac = accuracy_score(y_test,polysvm_pred)\n",
    "    print(ac)\n",
    "\n",
    "    f = f1_score(y_test, polysvm_pred, average='weighted')\n",
    "    total_f = total_f+f\n",
    "    total_ac = total_ac + ac\n",
    "    s = s + fold \n",
    "    counter= counter+1\n",
    "total_f = total_f /  FOLD_K  \n",
    "total_ac = total_ac / FOLD_K\n",
    "\n",
    "print(\"Cross validation accuracy for poly svm is: \",total_ac)\n",
    "print(\"F1 score is: \",total_f)\n",
    "\n",
    "average_precision = average_precision_score(y, result_score)\n",
    "precision, recall, _ = precision_recall_curve(y, result_score)\n",
    "plt.step(recall, precision, color='b', alpha=0.2,where='post')\n",
    "plt.fill_between(recall, precision, step='post', alpha=0.2,color='g')\n",
    "\n",
    "plt.xlabel('Recall')\n",
    "plt.ylabel('Precision')\n",
    "plt.ylim([0.0, 1.05])\n",
    "plt.xlim([0.0, 1.0])\n",
    "plt.title('2-class Precision-Recall curve: AP={0:0.2f}'.format(average_precision))"
   ]
  },
  {
   "cell_type": "code",
   "execution_count": 31,
   "metadata": {},
   "outputs": [
    {
     "data": {
      "text/plain": [
       "(0.0, 1.0)"
      ]
     },
     "execution_count": 31,
     "metadata": {},
     "output_type": "execute_result"
    },
    {
     "data": {
      "image/png": "[encoded data removed]",
      "text/plain": [
       "<matplotlib.figure.Figure at 0x10cfbc9e8>"
      ]
     },
     "metadata": {},
     "output_type": "display_data"
    }
   ],
   "source": [
    "#Voting classifier\n",
    "\n",
    "dataset = data_df.as_matrix()\n",
    "X = dataset[:,0:11]\n",
    "y = dataset[:,11:12]\n",
    "standardized_X = preprocessing.scale(X)\n",
    "clf1 = LogisticRegression(random_state=58)\n",
    "clf2 = RandomForestClassifier(random_state=58)\n",
    "clf4 = SVC(kernel='linear', C=60.00319,probability=True)\n",
    "clf5 = SVC(kernel='rbf', C= 31.2193,gamma=0.00827,probability=True)\n",
    "\n",
    "eclf2 = VotingClassifier(estimators=[('lr', clf1), ('rf', clf2),('linear', clf4),('rbf', clf5)],voting='soft')\n",
    "eclf2 = eclf2.fit(standardized_X , y.ravel())\n",
    "sco = eclf2.predict_proba(standardized_X )[:,1]\n",
    "\n",
    "\n",
    "average_precision = average_precision_score(y.ravel(), sco)\n",
    "precision, recall, _ = precision_recall_curve(y.ravel(), sco)\n",
    "plt.step(recall, precision, color='b', alpha=0.2,where='post')\n",
    "plt.fill_between(recall, precision, step='post', alpha=0.2,color='y')\n",
    "plt.xlabel('Recall')\n",
    "plt.ylabel('Precision')\n",
    "plt.ylim([0.0, 1.05])\n",
    "plt.xlim([0.0, 1.0])"
   ]
  },
  {
   "cell_type": "code",
   "execution_count": 33,
   "metadata": {},
   "outputs": [
    {
     "name": "stdout",
     "output_type": "stream",
     "text": [
      "Accuracy of voting classifier is:  0.894230769231\n",
      "F1-Score of voting classifier is:  0.894079074238\n"
     ]
    }
   ],
   "source": [
    "#Voting Classifier\n",
    "\n",
    "dataset = data_df.as_matrix()\n",
    "X = dataset[:,0:11]\n",
    "y = dataset[:,11:12]\n",
    "standardized_X = preprocessing.scale(X)\n",
    "clf1 = LogisticRegression(random_state=58)\n",
    "clf2 = RandomForestClassifier(random_state=58)\n",
    "clf4 = SVC(kernel='linear', C=60.00319,probability=True)\n",
    "clf5 = SVC(kernel='rbf', C= 31.2193,gamma=0.00827,probability=True)\n",
    "\n",
    "eclf2 = VotingClassifier(estimators=[('lr', clf1), ('rf', clf2),('linear', clf4),('rbf', clf5)],voting='soft')\n",
    "eclf2 = eclf2.fit(standardized_X , y.ravel())\n",
    "vote_pred = eclf2.predict(standardized_X)\n",
    "ac = accuracy_score(y.ravel(),vote_pred)\n",
    "print(\"Accuracy of voting classifier is: \",ac)\n",
    "f = f1_score(y.ravel(), vote_pred, average='weighted')\n",
    "print(\"F1-Score of voting classifier is: \",f)\n",
    "#sco = eclf2.predict_proba(standardized_X )[:,1]"
   ]
  },
  {
   "cell_type": "code",
   "execution_count": 27,
   "metadata": {},
   "outputs": [
    {
     "name": "stdout",
     "output_type": "stream",
     "text": [
      "Accuracy: 0.72 (+/- 0.12) [Logistic Regression]\n",
      "Accuracy: 0.74 (+/- 0.14) [Random Forest]\n",
      "Accuracy: 0.69 (+/- 0.14) [Polynomial]\n",
      "Accuracy: 0.72 (+/- 0.12) [Linear Svm]\n",
      "Accuracy: 0.76 (+/- 0.13) [Rbf Svm]\n"
     ]
    }
   ],
   "source": [
    "#cv=10\n",
    "\n",
    "dataset = data_df.as_matrix()\n",
    "X = dataset[:,0:11]\n",
    "y = dataset[:,11:12]\n",
    "standardized_X = preprocessing.scale(X)\n",
    "clf1 = LogisticRegression(random_state=58)\n",
    "clf2 = RandomForestClassifier(random_state=58)\n",
    "clf3 = SVC(kernel='poly',C= 35.6737,gamma=0.04227,probability=True)\n",
    "clf4 = SVC(kernel='linear', C=60.00319,probability=True)\n",
    "clf5 = SVC(kernel='rbf', C= 31.2193,gamma=0.00827,probability=True)\n",
    "\n",
    "for clf, label in zip([clf1, clf2, clf3, clf4, clf5], ['Logistic Regression', 'Random Forest', 'Polynomial','Linear Svm','Rbf Svm']):\n",
    "    scores = cross_validation.cross_val_score(clf, standardized_X, y.ravel(), cv=10, scoring='accuracy')\n",
    "    print(\"Accuracy: %0.2f (+/- %0.2f) [%s]\" % (scores.mean(), scores.std(), label))"
   ]
  },
  {
   "cell_type": "code",
   "execution_count": 28,
   "metadata": {},
   "outputs": [
    {
     "name": "stdout",
     "output_type": "stream",
     "text": [
      "Accuracy: 0.68 (+/- 0.09) [Logistic Regression]\n",
      "Accuracy: 0.71 (+/- 0.13) [Random Forest]\n",
      "Accuracy: 0.67 (+/- 0.11) [Polynomial]\n",
      "Accuracy: 0.71 (+/- 0.09) [Linear Svm]\n",
      "Accuracy: 0.72 (+/- 0.12) [Rbf Svm]\n"
     ]
    }
   ],
   "source": [
    "#CV= 5\n",
    "dataset = data_df.as_matrix()\n",
    "X = dataset[:,0:11]\n",
    "y = dataset[:,11:12]\n",
    "standardized_X = preprocessing.scale(X)\n",
    "clf1 = LogisticRegression(random_state=58)\n",
    "clf2 = RandomForestClassifier(random_state=58)\n",
    "clf3 = SVC(kernel='poly',C= 35.6737,gamma=0.04227,probability=True)\n",
    "clf4 = SVC(kernel='linear', C=60.00319,probability=True)\n",
    "clf5 = SVC(kernel='rbf', C= 31.2193,gamma=0.00827,probability=True)\n",
    "\n",
    "for clf, label in zip([clf1, clf2, clf3, clf4, clf5], ['Logistic Regression', 'Random Forest', 'Polynomial','Linear Svm','Rbf Svm']):\n",
    "    scores = cross_validation.cross_val_score(clf, standardized_X, y.ravel(), cv=5, scoring='accuracy')\n",
    "    print(\"Accuracy: %0.2f (+/- %0.2f) [%s]\" % (scores.mean(), scores.std(), label))"
   ]
  },
  {
   "cell_type": "code",
   "execution_count": null,
   "metadata": {
    "collapsed": true
   },
   "outputs": [],
   "source": []
  }
 ],
 "metadata": {
  "kernelspec": {
   "display_name": "Python 3",
   "language": "python",
   "name": "python3"
  },
  "language_info": {
   "codemirror_mode": {
    "name": "ipython",
    "version": 3
   },
   "file_extension": ".py",
   "mimetype": "text/x-python",
   "name": "python",
   "nbconvert_exporter": "python",
   "pygments_lexer": "ipython3",
   "version": "3.6.3"
  }
 },
 "nbformat": 4,
 "nbformat_minor": 2
}
