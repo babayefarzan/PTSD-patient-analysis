{
 "cells": [
  {
   "cell_type": "code",
   "execution_count": 1,
   "metadata": {},
   "outputs": [],
   "source": [
    "# lets import all libraries\n",
    "import pandas as pd\n",
    "import numpy as np\n",
    "from sklearn import preprocessing\n",
    "from sklearn.model_selection import train_test_split\n",
    "from sklearn.preprocessing import StandardScaler\n",
    "from sklearn.svm import SVC\n",
    "from sklearn import svm, datasets\n",
    "from sklearn.metrics import confusion_matrix\n",
    "from sklearn.metrics import classification_report\n",
    "from sklearn.metrics import accuracy_score\n",
    "import scipy\n",
    "from sklearn.model_selection import cross_val_score\n",
    "from sklearn.model_selection import cross_val_predict\n",
    "from sklearn import metrics\n"
   ]
  },
  {
   "cell_type": "code",
   "execution_count": 2,
   "metadata": {},
   "outputs": [],
   "source": [
    "data_df = pd.read_csv('data_process1.csv')\n",
    "dataset = data_df\n",
    "dataset = data_df.as_matrix()\n",
    "X = dataset[:,0:11]\n",
    "\n",
    "#last column is the target\n",
    "y = dataset[:,11:12]\n",
    "\n",
    "# Standardize data\n",
    "standardized_X = preprocessing.scale(X)\n",
    "\n",
    "#standardized_X =preprocessing.normalize(X)"
   ]
  },
  {
   "cell_type": "markdown",
   "metadata": {},
   "source": [
    "### Train-Test Split"
   ]
  },
  {
   "cell_type": "code",
   "execution_count": 3,
   "metadata": {},
   "outputs": [
    {
     "name": "stdout",
     "output_type": "stream",
     "text": [
      "SVC with linear kernel\n",
      "\n",
      "The classifier accuracy score is 0.78\n",
      "******************************\n",
      "SVC with RBF kernel\n",
      "\n",
      "The classifier accuracy score is 0.83\n",
      "******************************\n",
      "SVC with polynomial (degree 3) kernel\n",
      "\n",
      "The classifier accuracy score is 0.71\n",
      "******************************\n"
     ]
    }
   ],
   "source": [
    "# Divide records again in training and testing sets.\n",
    "X_train, X_test, y_train, y_test = train_test_split(standardized_X, y.ravel(), test_size=0.3, random_state=4, stratify=y)\n",
    "\n",
    "# Create different SVM classifiers and train it on n 70% of the data set\n",
    "models = (svm.SVC(kernel='linear', C=0.624974423446755),\n",
    "          svm.SVC(kernel='rbf', gamma=0.004059323094735449, C=57.296107349133315),\n",
    "          svm.SVC(kernel='poly', degree=3, C=44.862787773900145,gamma=0.017893797724654898))\n",
    "models = (clf.fit(X_train, y_train) for clf in models)\n",
    "\n",
    "# title for the plots\n",
    "titles = ('SVC with linear kernel',\n",
    "          'SVC with RBF kernel',\n",
    "          'SVC with polynomial (degree 3) kernel')\n",
    "\n",
    "for clf, title in zip(models, titles):    \n",
    "    # Analyze accuracy of predictions on 30% of the holdout test sample.\n",
    "    classifier_score = clf.score(X_test, y_test)\n",
    "    print(title)\n",
    "    print('\\nThe classifier accuracy score is {:03.2f}\\n******************************'.format(classifier_score))"
   ]
  },
  {
   "cell_type": "markdown",
   "metadata": {},
   "source": [
    "### Cross validation of 10"
   ]
  },
  {
   "cell_type": "code",
   "execution_count": 4,
   "metadata": {},
   "outputs": [
    {
     "name": "stdout",
     "output_type": "stream",
     "text": [
      "SVC with linear kernel\n",
      "\n",
      "The 10-fold cross-validation accuracy score for classifier is 0.72\n",
      "*********************\n",
      "SVC with RBF kernel\n",
      "\n",
      "The 10-fold cross-validation accuracy score for classifier is 0.76\n",
      "*********************\n",
      "SVC with polynomial (degree 3) kernel\n",
      "\n",
      "The 10-fold cross-validation accuracy score for classifier is 0.65\n",
      "*********************\n"
     ]
    }
   ],
   "source": [
    "models = (svm.SVC(kernel='linear', C=0.624974423446755),\n",
    "          svm.SVC(kernel='rbf', gamma=0.004059323094735449, C=57.296107349133315),\n",
    "          svm.SVC(kernel='poly', degree=3, C=44.862787773900145,gamma=0.017893797724654898))\n",
    "models = (clf.fit(standardized_X, y.ravel()) for clf in models)\n",
    "\n",
    "# title for the plots\n",
    "titles = ('SVC with linear kernel',\n",
    "          'SVC with RBF kernel',\n",
    "          'SVC with polynomial (degree 3) kernel')\n",
    "\n",
    "for clf, title in zip(models, titles):\n",
    "    cv_error = np.average(cross_val_score(clf, standardized_X, y.ravel(), cv=10))\n",
    "    print(title)\n",
    "    print('\\nThe {}-fold cross-validation accuracy score for classifier is {:.2f}\\n*********************'.format(10, cv_error))\n",
    "    "
   ]
  },
  {
   "cell_type": "code",
   "execution_count": null,
   "metadata": {},
   "outputs": [],
   "source": []
  }
 ],
 "metadata": {
  "kernelspec": {
   "display_name": "Python 3",
   "language": "python",
   "name": "python3"
  },
  "language_info": {
   "codemirror_mode": {
    "name": "ipython",
    "version": 3
   },
   "file_extension": ".py",
   "mimetype": "text/x-python",
   "name": "python",
   "nbconvert_exporter": "python",
   "pygments_lexer": "ipython3",
   "version": "3.6.4"
  }
 },
 "nbformat": 4,
 "nbformat_minor": 2
}
