{
 "cells": [
  {
   "cell_type": "code",
   "execution_count": 1,
   "metadata": {},
   "outputs": [],
   "source": [
    "# lets import all libraries\n",
    "import pandas as pd\n",
    "import numpy as np\n",
    "from sklearn import preprocessing\n",
    "from sklearn.model_selection import train_test_split\n",
    "from sklearn.preprocessing import StandardScaler\n",
    "from sklearn.svm import SVC\n",
    "from sklearn import svm, datasets\n",
    "from sklearn.metrics import confusion_matrix\n",
    "from sklearn.metrics import classification_report\n",
    "from sklearn.metrics import accuracy_score\n",
    "import scipy\n",
    "from sklearn.model_selection import cross_val_score\n",
    "from sklearn.model_selection import cross_val_predict\n",
    "from sklearn import metrics\n",
    "import seaborn as sns"
   ]
  },
  {
   "cell_type": "code",
   "execution_count": 2,
   "metadata": {},
   "outputs": [],
   "source": [
    "data_df = pd.read_csv('data_process1.csv')\n",
    "dataset = data_df\n",
    "dataset = data_df.as_matrix()\n",
    "X = dataset[:,0:11]\n",
    "\n",
    "#last column is the target\n",
    "y = dataset[:,11:12]\n",
    "\n",
    "# Standardize data\n",
    "standardized_X = preprocessing.scale(X)\n",
    "\n",
    "#standardized_X =preprocessing.normalize(X)"
   ]
  },
  {
   "cell_type": "markdown",
   "metadata": {},
   "source": [
    "### Train-Test Split"
   ]
  },
  {
   "cell_type": "code",
   "execution_count": 3,
   "metadata": {},
   "outputs": [],
   "source": [
    "# Divide records again in training and testing sets.\n",
    "X_train, X_test, y_train, y_test = train_test_split(standardized_X, y.ravel(), test_size=0.3, random_state=4, stratify=y)"
   ]
  },
  {
   "cell_type": "code",
   "execution_count": 4,
   "metadata": {},
   "outputs": [
    {
     "name": "stdout",
     "output_type": "stream",
     "text": [
      "Accuracy is : 0.779069767442\n",
      "\n",
      "Classification report is :\n",
      "              precision    recall  f1-score   support\n",
      "\n",
      "        0.0       0.80      0.82      0.81       195\n",
      "        1.0       0.76      0.72      0.74       149\n",
      "\n",
      "avg / total       0.78      0.78      0.78       344\n",
      "\n"
     ]
    },
    {
     "data": {
      "text/plain": [
       "<matplotlib.axes._subplots.AxesSubplot at 0x11400eac8>"
      ]
     },
     "execution_count": 4,
     "metadata": {},
     "output_type": "execute_result"
    },
    {
     "data": {
      "image/png": "[encoded data removed]",
      "text/plain": [
       "<matplotlib.figure.Figure at 0x113fb2ac8>"
      ]
     },
     "metadata": {},
     "output_type": "display_data"
    }
   ],
   "source": [
    "#linear kernel\n",
    "svmlinear = SVC(kernel='linear', C = 0.624974423446755)\n",
    "svmlinear.fit(X_train, y_train)  \n",
    "y_true, y_pred = y_test, svmlinear.predict(X_test)\n",
    "\n",
    "# get the accuracy\n",
    "print(\"Accuracy is :\",accuracy_score(y_true, y_pred))\n",
    "\n",
    "# classification report\n",
    "print(\"\\nClassification report is :\\n\",classification_report(y_true, y_pred))\n",
    "\n",
    "# confusion matrix\n",
    "cm = confusion_matrix(y_true,y_pred)\n",
    "sns.heatmap(cm,annot=True,fmt=\"d\")\n"
   ]
  },
  {
   "cell_type": "code",
   "execution_count": 5,
   "metadata": {},
   "outputs": [
    {
     "name": "stdout",
     "output_type": "stream",
     "text": [
      "Accuracy is : 0.834302325581\n",
      "\n",
      "Classification report is :\n",
      "              precision    recall  f1-score   support\n",
      "\n",
      "        0.0       0.84      0.88      0.86       195\n",
      "        1.0       0.83      0.78      0.80       149\n",
      "\n",
      "avg / total       0.83      0.83      0.83       344\n",
      "\n"
     ]
    },
    {
     "data": {
      "text/plain": [
       "<matplotlib.axes._subplots.AxesSubplot at 0x114051668>"
      ]
     },
     "execution_count": 5,
     "metadata": {},
     "output_type": "execute_result"
    },
    {
     "data": {
      "image/png": "[encoded data removed]",
      "text/plain": [
       "<matplotlib.figure.Figure at 0x10dbb5fd0>"
      ]
     },
     "metadata": {},
     "output_type": "display_data"
    }
   ],
   "source": [
    "#rbf kernel\n",
    "svmrbf = SVC(kernel='rbf', gamma=0.004059323094735449, C=57.296107349133315)\n",
    "svmrbf.fit(X_train, y_train)  \n",
    "y_true, y_pred = y_test, svmrbf.predict(X_test)\n",
    "\n",
    "# get the accuracy\n",
    "print(\"Accuracy is :\",accuracy_score(y_true, y_pred))\n",
    "\n",
    "# classification report\n",
    "print(\"\\nClassification report is :\\n\",classification_report(y_true, y_pred))\n",
    "\n",
    "# confusion matrix\n",
    "cm = confusion_matrix(y_true,y_pred)\n",
    "sns.heatmap(cm,annot=True,fmt=\"d\")"
   ]
  },
  {
   "cell_type": "code",
   "execution_count": 6,
   "metadata": {},
   "outputs": [
    {
     "name": "stdout",
     "output_type": "stream",
     "text": [
      "Accuracy is : 0.709302325581\n",
      "\n",
      "Classification report is :\n",
      "              precision    recall  f1-score   support\n",
      "\n",
      "        0.0       0.68      0.92      0.78       195\n",
      "        1.0       0.81      0.43      0.56       149\n",
      "\n",
      "avg / total       0.74      0.71      0.69       344\n",
      "\n"
     ]
    },
    {
     "data": {
      "text/plain": [
       "<matplotlib.axes._subplots.AxesSubplot at 0x114061a58>"
      ]
     },
     "execution_count": 6,
     "metadata": {},
     "output_type": "execute_result"
    },
    {
     "data": {
      "image/png": "[encoded data removed]",
      "text/plain": [
       "<matplotlib.figure.Figure at 0x114186898>"
      ]
     },
     "metadata": {},
     "output_type": "display_data"
    }
   ],
   "source": [
    "#poly kernel\n",
    "svmpoly = svm.SVC(kernel='poly', degree=3, C=44.862787773900145,gamma=0.017893797724654898)\n",
    "svmpoly.fit(X_train, y_train)  \n",
    "y_true, y_pred = y_test, svmpoly.predict(X_test)\n",
    "\n",
    "# get the accuracy\n",
    "print(\"Accuracy is :\",accuracy_score(y_true, y_pred))\n",
    "\n",
    "# classification report\n",
    "print(\"\\nClassification report is :\\n\",classification_report(y_true, y_pred))\n",
    "\n",
    "# confusion matrix\n",
    "cm = confusion_matrix(y_true,y_pred)\n",
    "sns.heatmap(cm,annot=True,fmt=\"d\")"
   ]
  },
  {
   "cell_type": "markdown",
   "metadata": {},
   "source": [
    "### Cross validation of 10"
   ]
  },
  {
   "cell_type": "code",
   "execution_count": 7,
   "metadata": {},
   "outputs": [
    {
     "name": "stdout",
     "output_type": "stream",
     "text": [
      "SVC with linear kernel\n",
      "\n",
      "The 10-fold cross-validation accuracy score for classifier is 0.72\n",
      "*********************\n",
      "SVC with RBF kernel\n",
      "\n",
      "The 10-fold cross-validation accuracy score for classifier is 0.76\n",
      "*********************\n",
      "SVC with polynomial (degree 3) kernel\n",
      "\n",
      "The 10-fold cross-validation accuracy score for classifier is 0.65\n",
      "*********************\n"
     ]
    }
   ],
   "source": [
    "models = (svm.SVC(kernel='linear', C=0.624974423446755),\n",
    "          svm.SVC(kernel='rbf', gamma=0.004059323094735449, C=57.296107349133315),\n",
    "          svm.SVC(kernel='poly', degree=3, C=44.862787773900145,gamma=0.017893797724654898))\n",
    "models = (clf.fit(standardized_X, y.ravel()) for clf in models)\n",
    "\n",
    "# title for the plots\n",
    "titles = ('SVC with linear kernel',\n",
    "          'SVC with RBF kernel',\n",
    "          'SVC with polynomial (degree 3) kernel')\n",
    "\n",
    "for clf, title in zip(models, titles):\n",
    "    cv_error = np.average(cross_val_score(clf, standardized_X, y.ravel(), cv=10))\n",
    "    print(title)\n",
    "    print('\\nThe {}-fold cross-validation accuracy score for classifier is {:.2f}\\n*********************'.format(10, cv_error))\n",
    "    "
   ]
  }
 ],
 "metadata": {
  "kernelspec": {
   "display_name": "Python 3",
   "language": "python",
   "name": "python3"
  },
  "language_info": {
   "codemirror_mode": {
    "name": "ipython",
    "version": 3
   },
   "file_extension": ".py",
   "mimetype": "text/x-python",
   "name": "python",
   "nbconvert_exporter": "python",
   "pygments_lexer": "ipython3",
   "version": "3.6.4"
  }
 },
 "nbformat": 4,
 "nbformat_minor": 2
}
