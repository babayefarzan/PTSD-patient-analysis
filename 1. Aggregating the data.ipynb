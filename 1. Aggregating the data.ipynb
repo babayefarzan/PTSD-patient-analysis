{
 "cells": [
  {
   "cell_type": "markdown",
   "metadata": {
    "collapsed": true
   },
   "source": [
    "### Reducing the Long Data File"
   ]
  },
  {
   "cell_type": "code",
   "execution_count": 3,
   "metadata": {},
   "outputs": [
    {
     "name": "stdout",
     "output_type": "stream",
     "text": [
      "Before Reduction (4312, 18)\n",
      "After Reduction (1144, 17)\n",
      "   PID  Unnamed: 0  PCL.score  PHQ.score  SDS.score  Days.Since  Reexp1  \\\n",
      "0  202    202.2000       25.0        7.0        0.0         2.0    1.00   \n",
      "1  202    202.5500       25.0        7.0        0.0         5.5    1.00   \n",
      "2  202    202.4775       25.0        7.0        0.0         9.5    0.00   \n",
      "3  202    202.1350       25.0        7.0        0.0        13.5   -0.25   \n",
      "4  202    202.1750       25.0        7.0        0.0        17.5   -0.25   \n",
      "\n",
      "     Reexp2    Avoid1    Avoid2  NACM1     NACM2      AAR1  AAR2  Sleep  \\\n",
      "0  1.333333  1.666667  1.666667   1.00 -0.333333 -0.333333  0.00   0.00   \n",
      "1  1.250000  0.750000  1.125000   1.50  0.750000  0.000000  0.00   0.75   \n",
      "2  0.500000  0.750000  1.000000   0.75  0.000000  0.000000  0.25   1.25   \n",
      "3  0.000000 -0.250000 -0.250000  -0.25 -0.250000 -0.250000  0.00  -0.25   \n",
      "4 -0.250000 -0.250000 -0.250000  -0.25 -0.250000 -0.250000 -0.25  -0.25   \n",
      "\n",
      "       Pain   HR  \n",
      "0  3.333333 -1.0  \n",
      "1  4.000000 -1.0  \n",
      "2  2.750000 -1.0  \n",
      "3  1.000000 -1.0  \n",
      "4  0.250000 -1.0  \n"
     ]
    }
   ],
   "source": [
    "#Import Library\n",
    "import pandas as pd\n",
    "\n",
    "#Read the file and replace NAN values with -1\n",
    "data_df = pd.read_csv('Long Data File - Missing Values and 1 Month Assessemnt 2017-10-03.csv')\n",
    "data_df.fillna(value=-1, inplace=True)\n",
    "\n",
    "def to_bins(x):\n",
    "    return int(x)/4 +1\n",
    "\n",
    "data_df['days_bin'] = data_df['Days.Since'].apply(to_bins)\n",
    "grouped_df = data_df.groupby(['PID','days_bin'],as_index=False).mean()\n",
    "\n",
    "#Size before reduction\n",
    "print('Before Reduction',data_df.shape)\n",
    "grouped_df.drop(['days_bin'], inplace=True,axis=1)\n",
    "\n",
    "#Size after reduction\n",
    "print('After Reduction', grouped_df.shape)\n",
    "print(grouped_df.head())"
   ]
  },
  {
   "cell_type": "code",
   "execution_count": 4,
   "metadata": {
    "collapsed": true
   },
   "outputs": [],
   "source": [
    "#new reduced file is called reduced1.csv\n",
    "grouped_df.to_csv('reduced_1.csv')"
   ]
  }
 ],
 "metadata": {
  "kernelspec": {
   "display_name": "Python 3",
   "language": "python",
   "name": "python3"
  },
  "language_info": {
   "codemirror_mode": {
    "name": "ipython",
    "version": 3
   },
   "file_extension": ".py",
   "mimetype": "text/x-python",
   "name": "python",
   "nbconvert_exporter": "python",
   "pygments_lexer": "ipython3",
   "version": "3.6.4"
  }
 },
 "nbformat": 4,
 "nbformat_minor": 2
}
