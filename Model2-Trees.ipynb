{
 "cells": [
  {
   "cell_type": "markdown",
   "metadata": {},
   "source": [
    "## Decision Trees"
   ]
  },
  {
   "cell_type": "code",
   "execution_count": 1,
   "metadata": {},
   "outputs": [],
   "source": [
    "import pandas as pd\n",
    "import matplotlib.pyplot as plt\n",
    "\n",
    "from sklearn.model_selection import train_test_split\n",
    "from sklearn.tree import DecisionTreeClassifier\n",
    "from sklearn import preprocessing\n",
    "from sklearn.metrics import f1_score,confusion_matrix\n",
    "from sklearn.ensemble import RandomForestClassifier\n",
    "from sklearn.metrics import classification_report,confusion_matrix\n",
    "from sklearn.metrics import accuracy_score\n",
    "from sklearn.model_selection import cross_val_score\n",
    "import seaborn as sns\n",
    "%matplotlib inline"
   ]
  },
  {
   "cell_type": "code",
   "execution_count": 2,
   "metadata": {},
   "outputs": [
    {
     "data": {
      "text/plain": [
       "Index(['Days.Since', 'Reexp1', 'Reexp2', 'Avoid1', 'Avoid2', 'NACM1', 'NACM2',\n",
       "       'AAR1', 'AAR2', 'Sleep', 'Pain', 'Threshold'],\n",
       "      dtype='object')"
      ]
     },
     "execution_count": 2,
     "metadata": {},
     "output_type": "execute_result"
    }
   ],
   "source": [
    "data_df = pd.read_csv(\"data_process1.csv\")\n",
    "data_df.columns"
   ]
  },
  {
   "cell_type": "code",
   "execution_count": 3,
   "metadata": {},
   "outputs": [
    {
     "data": {
      "text/html": [
       "<div>\n",
       "<style scoped>\n",
       "    .dataframe tbody tr th:only-of-type {\n",
       "        vertical-align: middle;\n",
       "    }\n",
       "\n",
       "    .dataframe tbody tr th {\n",
       "        vertical-align: top;\n",
       "    }\n",
       "\n",
       "    .dataframe thead th {\n",
       "        text-align: right;\n",
       "    }\n",
       "</style>\n",
       "<table border=\"1\" class=\"dataframe\">\n",
       "  <thead>\n",
       "    <tr style=\"text-align: right;\">\n",
       "      <th></th>\n",
       "      <th>Days.Since</th>\n",
       "      <th>Reexp1</th>\n",
       "      <th>Reexp2</th>\n",
       "      <th>Avoid1</th>\n",
       "      <th>Avoid2</th>\n",
       "      <th>NACM1</th>\n",
       "      <th>NACM2</th>\n",
       "      <th>AAR1</th>\n",
       "      <th>AAR2</th>\n",
       "      <th>Sleep</th>\n",
       "      <th>Pain</th>\n",
       "      <th>Threshold</th>\n",
       "    </tr>\n",
       "  </thead>\n",
       "  <tbody>\n",
       "    <tr>\n",
       "      <th>0</th>\n",
       "      <td>2.0</td>\n",
       "      <td>2.0</td>\n",
       "      <td>2.50</td>\n",
       "      <td>3.00</td>\n",
       "      <td>3.000</td>\n",
       "      <td>2.00</td>\n",
       "      <td>0.00</td>\n",
       "      <td>0.0</td>\n",
       "      <td>0.50</td>\n",
       "      <td>0.50</td>\n",
       "      <td>5.50</td>\n",
       "      <td>1</td>\n",
       "    </tr>\n",
       "    <tr>\n",
       "      <th>1</th>\n",
       "      <td>5.5</td>\n",
       "      <td>1.0</td>\n",
       "      <td>1.25</td>\n",
       "      <td>0.75</td>\n",
       "      <td>1.125</td>\n",
       "      <td>1.50</td>\n",
       "      <td>0.75</td>\n",
       "      <td>0.0</td>\n",
       "      <td>0.00</td>\n",
       "      <td>0.75</td>\n",
       "      <td>4.00</td>\n",
       "      <td>1</td>\n",
       "    </tr>\n",
       "    <tr>\n",
       "      <th>2</th>\n",
       "      <td>9.5</td>\n",
       "      <td>0.0</td>\n",
       "      <td>0.50</td>\n",
       "      <td>0.75</td>\n",
       "      <td>1.000</td>\n",
       "      <td>0.75</td>\n",
       "      <td>0.00</td>\n",
       "      <td>0.0</td>\n",
       "      <td>0.25</td>\n",
       "      <td>1.25</td>\n",
       "      <td>2.75</td>\n",
       "      <td>1</td>\n",
       "    </tr>\n",
       "  </tbody>\n",
       "</table>\n",
       "</div>"
      ],
      "text/plain": [
       "   Days.Since  Reexp1  Reexp2  Avoid1  Avoid2  NACM1  NACM2  AAR1  AAR2  \\\n",
       "0         2.0     2.0    2.50    3.00   3.000   2.00   0.00   0.0  0.50   \n",
       "1         5.5     1.0    1.25    0.75   1.125   1.50   0.75   0.0  0.00   \n",
       "2         9.5     0.0    0.50    0.75   1.000   0.75   0.00   0.0  0.25   \n",
       "\n",
       "   Sleep  Pain  Threshold  \n",
       "0   0.50  5.50          1  \n",
       "1   0.75  4.00          1  \n",
       "2   1.25  2.75          1  "
      ]
     },
     "execution_count": 3,
     "metadata": {},
     "output_type": "execute_result"
    }
   ],
   "source": [
    "data_df.head(3)"
   ]
  },
  {
   "cell_type": "code",
   "execution_count": 4,
   "metadata": {},
   "outputs": [],
   "source": [
    "dataset = data_df.as_matrix()\n",
    "X = dataset[:,0:11]\n",
    "\n",
    "#last column is the target\n",
    "y = dataset[:,11:12]\n",
    "\n",
    "# standardize the data attributes\n",
    "standardized_X = preprocessing.scale(X)"
   ]
  },
  {
   "cell_type": "code",
   "execution_count": 5,
   "metadata": {},
   "outputs": [],
   "source": [
    "# split data train 70 % and test 30 %\n",
    "X_train, X_test, y_train, y_test = train_test_split(standardized_X, y.ravel(), test_size=0.3, random_state=4)"
   ]
  },
  {
   "cell_type": "markdown",
   "metadata": {},
   "source": [
    "### Decision Tree Classifier"
   ]
  },
  {
   "cell_type": "code",
   "execution_count": 6,
   "metadata": {},
   "outputs": [
    {
     "name": "stdout",
     "output_type": "stream",
     "text": [
      "Accuracy is:  0.8343023255813954\n"
     ]
    }
   ],
   "source": [
    "dtc = DecisionTreeClassifier(random_state=4)      \n",
    "dtc = dtc.fit(X_train,y_train)\n",
    "\n",
    "ac = accuracy_score(y_test,dtc.predict(X_test))\n",
    "print('Accuracy is: ',ac)"
   ]
  },
  {
   "cell_type": "markdown",
   "metadata": {},
   "source": [
    "### Decision Tree Cross validation "
   ]
  },
  {
   "cell_type": "code",
   "execution_count": 7,
   "metadata": {},
   "outputs": [
    {
     "name": "stdout",
     "output_type": "stream",
     "text": [
      "[0.76521739 0.8173913  0.75652174 0.8173913  0.69298246 0.72807018\n",
      " 0.42982456 0.47368421 0.64035088 0.65789474]\n",
      "The Cross validation score on Decision Tree: 0.6779328756674295\n"
     ]
    }
   ],
   "source": [
    "# evaluate the model using 10-fold cross-validation\n",
    "cv_scores = cross_val_score(DecisionTreeClassifier(random_state=4), standardized_X, y.ravel(), scoring='accuracy', cv=10)\n",
    "print(cv_scores)\n",
    "\n",
    "print(\"The Cross validation score on Decision Tree:\",cv_scores.mean())\n"
   ]
  },
  {
   "cell_type": "markdown",
   "metadata": {},
   "source": [
    "### Random Forest "
   ]
  },
  {
   "cell_type": "code",
   "execution_count": 12,
   "metadata": {},
   "outputs": [
    {
     "name": "stdout",
     "output_type": "stream",
     "text": [
      "Accuracy is:  0.8982558139534884\n"
     ]
    }
   ],
   "source": [
    "rfc = RandomForestClassifier(n_estimators=100,random_state=4)     \n",
    "rfc = rfc.fit(X_train,y_train)\n",
    "ac_rfc = accuracy_score(y_test,rfc.predict(X_test))\n",
    "print('Accuracy is: ',ac_rfc)"
   ]
  },
  {
   "cell_type": "markdown",
   "metadata": {},
   "source": [
    "### Random Forest Feature Importance "
   ]
  },
  {
   "cell_type": "code",
   "execution_count": 23,
   "metadata": {},
   "outputs": [
    {
     "name": "stdout",
     "output_type": "stream",
     "text": [
      "Feature ranking:\n",
      "1. feature 5 (0.158057)\n",
      "2. feature 6 (0.153848)\n",
      "3. feature 8 (0.130520)\n",
      "4. feature 10 (0.109225)\n",
      "5. feature 9 (0.089198)\n",
      "6. feature 2 (0.078864)\n",
      "7. feature 3 (0.069402)\n",
      "8. feature 1 (0.060646)\n",
      "9. feature 4 (0.055099)\n",
      "10. feature 7 (0.051732)\n",
      "11. feature 0 (0.043408)\n"
     ]
    },
    {
     "data": {
      "image/png": "[encoded data removed]",
      "text/plain": [
       "<matplotlib.figure.Figure at 0x1a1a540eb8>"
      ]
     },
     "metadata": {},
     "output_type": "display_data"
    }
   ],
   "source": [
    "import numpy as np\n",
    "importances = rfc.feature_importances_\n",
    "std = np.std([tree.feature_importances_ for tree in rfc.estimators_],\n",
    "             axis=0)\n",
    "indices = np.argsort(importances)[::-1]\n",
    "labels =[]\n",
    "# Print the feature ranking\n",
    "print(\"Feature ranking:\")\n",
    "\n",
    "for f in range(X_train.shape[1]):\n",
    "    print(\"%d. feature %d (%f)\" % (f + 1, indices[f], importances[indices[f]]))\n",
    "    labels.append(indices[f])\n",
    "# Plot the feature importances of the forest\n",
    "\n",
    "plt.figure(1, figsize=(14, 13))\n",
    "plt.title(\"Feature importances\")\n",
    "plt.bar(range(X_train.shape[1]), importances[indices],\n",
    "       color=\"g\", yerr=std[indices], align=\"center\")\n",
    " \n",
    "plt.xticks(range(X_train.shape[1]), labels,rotation=90)\n",
    "plt.xlabel(\"Feature number\")\n",
    "plt.ylabel(\"Feature importance value\")\n",
    "plt.xlim([-1, X_train.shape[1]])\n",
    "plt.show()"
   ]
  },
  {
   "cell_type": "markdown",
   "metadata": {},
   "source": [
    "### Random Forest Cross validation"
   ]
  },
  {
   "cell_type": "code",
   "execution_count": 13,
   "metadata": {},
   "outputs": [
    {
     "name": "stdout",
     "output_type": "stream",
     "text": [
      "[0.84347826 0.93913043 0.71304348 0.85217391 0.85964912 0.86842105\n",
      " 0.5877193  0.56140351 0.63157895 0.60526316]\n",
      "The Cross validation score on Random Forest: 0.746186117467582\n"
     ]
    }
   ],
   "source": [
    "# evaluate the model using 10-fold cross-validation\n",
    "rfc_cv_scores = cross_val_score(RandomForestClassifier(n_estimators=100,random_state=4), standardized_X, y.ravel(), scoring='accuracy', cv=10)\n",
    "print(rfc_cv_scores)\n",
    "\n",
    "print(\"The Cross validation score on Random Forest:\",rfc_cv_scores.mean())"
   ]
  },
  {
   "cell_type": "code",
   "execution_count": null,
   "metadata": {},
   "outputs": [],
   "source": []
  }
 ],
 "metadata": {
  "kernelspec": {
   "display_name": "Python 3",
   "language": "python",
   "name": "python3"
  },
  "language_info": {
   "codemirror_mode": {
    "name": "ipython",
    "version": 3
   },
   "file_extension": ".py",
   "mimetype": "text/x-python",
   "name": "python",
   "nbconvert_exporter": "python",
   "pygments_lexer": "ipython3",
   "version": "3.6.4"
  }
 },
 "nbformat": 4,
 "nbformat_minor": 2
}
