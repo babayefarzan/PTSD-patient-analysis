{
 "cells": [
  {
   "cell_type": "code",
   "execution_count": 1,
   "metadata": {},
   "outputs": [],
   "source": [
    "import pandas as pd\n",
    "import numpy as np\n",
    "import scipy\n",
    "from sklearn import preprocessing\n",
    "from sklearn.model_selection import train_test_split\n",
    "from sklearn.model_selection import cross_val_score\n",
    "from sklearn import model_selection\n",
    "import seaborn as sns\n",
    "from sklearn.linear_model import LogisticRegression\n",
    "from sklearn.ensemble import RandomForestClassifier,VotingClassifier\n",
    "from sklearn.tree import DecisionTreeClassifier\n",
    "from sklearn.svm import SVC\n",
    "\n",
    "from sklearn.metrics import confusion_matrix, classification_report, accuracy_score\n",
    "from sklearn import metrics\n",
    "from sklearn.model_selection import cross_val_score\n",
    "from sklearn.model_selection import cross_val_predict\n",
    "from sklearn.metrics import accuracy_score\n",
    "from sklearn.metrics import f1_score\n",
    "from sklearn.metrics import average_precision_score\n",
    "from sklearn.metrics import precision_recall_curve\n",
    "from mlxtend.classifier import EnsembleVoteClassifier\n",
    "import matplotlib.pyplot as plt\n",
    "%matplotlib inline"
   ]
  },
  {
   "cell_type": "code",
   "execution_count": 2,
   "metadata": {},
   "outputs": [],
   "source": [
    "data_df = pd.read_csv('data_process1.csv')\n",
    "dataset = data_df\n",
    "dataset = data_df.as_matrix()\n",
    "X = dataset[:,0:11]\n",
    "y = dataset[:,11:12]\n",
    "X = preprocessing.scale(X)"
   ]
  },
  {
   "cell_type": "markdown",
   "metadata": {},
   "source": [
    "### Voting Classifier Train-Test Split"
   ]
  },
  {
   "cell_type": "code",
   "execution_count": 3,
   "metadata": {},
   "outputs": [],
   "source": [
    "#70 - 30 split\n",
    "X_train, X_test, y_train, y_test = train_test_split(X, y.ravel(), test_size=0.30, random_state= 4)\n",
    "clf1 = LogisticRegression(random_state=4)\n",
    "clf2 = RandomForestClassifier(random_state=4)\n",
    "clf3 = SVC(kernel='linear', C=0.624974423446755,probability=True)\n",
    "clf4 = SVC(kernel='rbf', C= 57.296107349133315,gamma=0.004059323094735449,probability=True)\n",
    "clf5 = SVC(kernel='poly',C= 44.862787773900145,gamma=0.017,probability=True)\n",
    "clf6 = dt = DecisionTreeClassifier(random_state=4)\n",
    "labels = ['Logistic Regression', 'Random Forest', 'SVM Linear', 'SVM rbf', 'SVM poly' , 'Decision Tree']"
   ]
  },
  {
   "cell_type": "code",
   "execution_count": 4,
   "metadata": {},
   "outputs": [
    {
     "name": "stdout",
     "output_type": "stream",
     "text": [
      "Classification report is:               precision    recall  f1-score   support\n",
      "\n",
      "        0.0       0.84      0.93      0.88       193\n",
      "        1.0       0.90      0.77      0.83       151\n",
      "\n",
      "avg / total       0.86      0.86      0.86       344\n",
      "\n",
      "Accuracy is:  0.860465116279\n"
     ]
    },
    {
     "data": {
      "text/plain": [
       "<matplotlib.axes._subplots.AxesSubplot at 0x102bebfd0>"
      ]
     },
     "execution_count": 4,
     "metadata": {},
     "output_type": "execute_result"
    },
    {
     "data": {
      "image/png": "[encoded data removed]",
      "text/plain": [
       "<matplotlib.figure.Figure at 0x1a0a75ab00>"
      ]
     },
     "metadata": {},
     "output_type": "display_data"
    }
   ],
   "source": [
    "#train-test split for hard classifier\n",
    "eclft1 = EnsembleVoteClassifier(clfs=[clf1, clf2, clf3,clf4,clf5,clf6],voting='hard')\n",
    "eclft1 = eclft1.fit(X_train, y_train)\n",
    "predictions = eclft1.predict(X_test)\n",
    "\n",
    "# classification report\n",
    "print(\"Classification report is: \",classification_report(y_test,predictions))\n",
    "\n",
    "# accuracy\n",
    "print(\"Accuracy is: \", metrics.accuracy_score(y_test, predictions))\n",
    "\n",
    "# confusion matrix\n",
    "cm = confusion_matrix(y_test,predictions)\n",
    "sns.heatmap(cm,annot=True,fmt=\"d\")"
   ]
  },
  {
   "cell_type": "code",
   "execution_count": 5,
   "metadata": {},
   "outputs": [
    {
     "name": "stdout",
     "output_type": "stream",
     "text": [
      "Classification report is:               precision    recall  f1-score   support\n",
      "\n",
      "        0.0       0.92      0.89      0.91       193\n",
      "        1.0       0.87      0.90      0.88       151\n",
      "\n",
      "avg / total       0.90      0.90      0.90       344\n",
      "\n",
      "Accuracy is:  0.895348837209\n"
     ]
    },
    {
     "data": {
      "text/plain": [
       "<matplotlib.axes._subplots.AxesSubplot at 0x1a0a8c9a90>"
      ]
     },
     "execution_count": 5,
     "metadata": {},
     "output_type": "execute_result"
    },
    {
     "data": {
      "image/png": "[encoded data removed]",
      "text/plain": [
       "<matplotlib.figure.Figure at 0x1a0a7c0cc0>"
      ]
     },
     "metadata": {},
     "output_type": "display_data"
    }
   ],
   "source": [
    "#train-test split for soft classifier\n",
    "eclft2 = EnsembleVoteClassifier(clfs=[clf1, clf2, clf3,clf4,clf5,clf6],voting='soft')\n",
    "eclft2 = eclft2.fit(X_train, y_train)\n",
    "predictions2 = eclft2.predict(X_test)\n",
    "\n",
    "# classification report\n",
    "print(\"Classification report is: \",classification_report(y_test,predictions2))\n",
    "\n",
    "# accuracy\n",
    "print(\"Accuracy is: \", metrics.accuracy_score(y_test, predictions2))\n",
    "\n",
    "# confusion matrix\n",
    "cm = confusion_matrix(y_test,predictions2)\n",
    "sns.heatmap(cm,annot=True,fmt=\"d\")"
   ]
  },
  {
   "cell_type": "markdown",
   "metadata": {},
   "source": [
    "### Voting Classifier Cross Validation"
   ]
  },
  {
   "cell_type": "code",
   "execution_count": 6,
   "metadata": {},
   "outputs": [
    {
     "name": "stdout",
     "output_type": "stream",
     "text": [
      "10-fold cross validation on other classifiers:\n",
      "\n",
      "Accuracy: 0.72 (+/- 0.12) [Logistic Regression]\n",
      "Accuracy: 0.72 (+/- 0.13) [Random Forest]\n",
      "Accuracy: 0.72 (+/- 0.11) [SVM Linear]\n",
      "Accuracy: 0.76 (+/- 0.12) [SVM rbf]\n",
      "Accuracy: 0.65 (+/- 0.10) [SVM poly]\n",
      "Accuracy: 0.68 (+/- 0.15) [Decision Tree]\n"
     ]
    }
   ],
   "source": [
    "print('10-fold cross validation on other classifiers:\\n')\n",
    "for clf, label in zip([clf1, clf2, clf3, clf4,clf5,clf6], labels):\n",
    "    scores = model_selection.cross_val_score(clf, X, y.ravel(),cv=10,scoring='accuracy')\n",
    "    print(\"Accuracy: %0.2f (+/- %0.2f) [%s]\"% (scores.mean(), scores.std(), label))"
   ]
  },
  {
   "cell_type": "code",
   "execution_count": 7,
   "metadata": {},
   "outputs": [],
   "source": [
    "eclf = EnsembleVoteClassifier(clfs=[clf1, clf2, clf3,clf4,clf5,clf6], weights=[1,1,1,1,1,1],voting='soft')"
   ]
  },
  {
   "cell_type": "code",
   "execution_count": 8,
   "metadata": {},
   "outputs": [
    {
     "name": "stdout",
     "output_type": "stream",
     "text": [
      "Accuracy: 0.72 (+/- 0.12) [Logistic Regression]\n",
      "Accuracy: 0.72 (+/- 0.13) [Random Forest]\n",
      "Accuracy: 0.72 (+/- 0.11) [SVM Linear]\n",
      "Accuracy: 0.76 (+/- 0.12) [SVM rbf]\n",
      "Accuracy: 0.65 (+/- 0.10) [SVM poly]\n",
      "Accuracy: 0.68 (+/- 0.15) [Decision Tree]\n",
      "Accuracy: 0.74 (+/- 0.14) [soft ensemble]\n"
     ]
    }
   ],
   "source": [
    "#soft voting classifier\n",
    "\n",
    "labels = ['Logistic Regression', 'Random Forest', 'SVM Linear', 'SVM rbf', 'SVM poly' , 'Decision Tree', 'soft ensemble']\n",
    "for clf, label in zip([clf1, clf2, clf3, clf4, clf5, clf6, eclf], labels):\n",
    "    scores = model_selection.cross_val_score(clf, X, y.ravel(), cv=10,scoring='accuracy')\n",
    "    print(\"Accuracy: %0.2f (+/- %0.2f) [%s]\" % (scores.mean(), scores.std(), label))"
   ]
  },
  {
   "cell_type": "code",
   "execution_count": 9,
   "metadata": {},
   "outputs": [
    {
     "name": "stdout",
     "output_type": "stream",
     "text": [
      "Accuracy: 0.72 (+/- 0.12) [Logistic Regression]\n",
      "Accuracy: 0.72 (+/- 0.13) [Random Forest]\n",
      "Accuracy: 0.72 (+/- 0.11) [SVM Linear]\n",
      "Accuracy: 0.76 (+/- 0.12) [SVM rbf]\n",
      "Accuracy: 0.65 (+/- 0.10) [SVM poly]\n",
      "Accuracy: 0.68 (+/- 0.15) [Decision Tree]\n",
      "Accuracy: 0.74 (+/- 0.13) [hard ensemble]\n"
     ]
    }
   ],
   "source": [
    "#hard voting classifier\n",
    "eclf3 = EnsembleVoteClassifier(clfs=[clf1, clf2, clf3,clf4,clf5,clf6], voting='hard')\n",
    "\n",
    "labels = ['Logistic Regression', 'Random Forest', 'SVM Linear', 'SVM rbf', 'SVM poly' , 'Decision Tree', 'hard ensemble']\n",
    "for clf, label in zip([clf1, clf2, clf3, clf4, clf5, clf6, eclf3], labels):\n",
    "    scores = model_selection.cross_val_score(clf, X, y.ravel(), cv=10,scoring='accuracy')\n",
    "    print(\"Accuracy: %0.2f (+/- %0.2f) [%s]\" % (scores.mean(), scores.std(), label))"
   ]
  }
 ],
 "metadata": {
  "kernelspec": {
   "display_name": "Python 3",
   "language": "python",
   "name": "python3"
  },
  "language_info": {
   "codemirror_mode": {
    "name": "ipython",
    "version": 3
   },
   "file_extension": ".py",
   "mimetype": "text/x-python",
   "name": "python",
   "nbconvert_exporter": "python",
   "pygments_lexer": "ipython3",
   "version": "3.6.4"
  }
 },
 "nbformat": 4,
 "nbformat_minor": 2
}
