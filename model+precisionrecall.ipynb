{
 "cells": [
  {
   "cell_type": "code",
   "execution_count": 1,
   "metadata": {},
   "outputs": [
    {
     "name": "stderr",
     "output_type": "stream",
     "text": [
      "/anaconda3/lib/python3.6/site-packages/sklearn/cross_validation.py:41: DeprecationWarning: This module was deprecated in version 0.18 in favor of the model_selection module into which all the refactored classes and functions are moved. Also note that the interface of the new CV iterators are different from that of this module. This module will be removed in 0.20.\n",
      "  \"This module will be removed in 0.20.\", DeprecationWarning)\n"
     ]
    }
   ],
   "source": [
    "import pandas as pd\n",
    "import numpy as np\n",
    "import scipy\n",
    "import sklearn.svm\n",
    "from sklearn import preprocessing\n",
    "from sklearn.model_selection import train_test_split\n",
    "from sklearn.linear_model import LogisticRegression\n",
    "from sklearn.metrics import confusion_matrix\n",
    "from sklearn.metrics import classification_report\n",
    "from sklearn.metrics import accuracy_score\n",
    "from sklearn.model_selection import cross_val_predict\n",
    "from sklearn import metrics\n",
    "import sklearn.metrics\n",
    "from sklearn.cross_validation import cross_val_score\n",
    "from sklearn.ensemble import ExtraTreesClassifier\n",
    "from sklearn.ensemble import RandomForestClassifier\n",
    "from sklearn.tree import DecisionTreeClassifier\n",
    "from sklearn.svm import SVC\n",
    "from sklearn.model_selection import RandomizedSearchCV\n",
    "from sklearn.metrics import accuracy_score\n",
    "from sklearn.ensemble import VotingClassifier\n",
    "\n",
    "from matplotlib import pyplot as plt\n",
    "%matplotlib inline"
   ]
  },
  {
   "cell_type": "code",
   "execution_count": 2,
   "metadata": {},
   "outputs": [],
   "source": [
    "data_df = pd.read_csv('data3.csv')\n",
    "dataset = data_df.as_matrix()"
   ]
  },
  {
   "cell_type": "code",
   "execution_count": 3,
   "metadata": {},
   "outputs": [],
   "source": [
    "X = dataset[:,4:14]\n",
    "y = dataset[:,15]\n",
    "standardized_X = preprocessing.scale(X)"
   ]
  },
  {
   "cell_type": "code",
   "execution_count": 4,
   "metadata": {
    "collapsed": true
   },
   "outputs": [],
   "source": [
    "seed = 58\n",
    "results =[]"
   ]
  },
  {
   "cell_type": "code",
   "execution_count": 5,
   "metadata": {},
   "outputs": [
    {
     "name": "stdout",
     "output_type": "stream",
     "text": [
      "             precision    recall  f1-score   support\n",
      "\n",
      "        0.0       0.73      0.80      0.76       650\n",
      "        1.0       0.70      0.62      0.66       494\n",
      "\n",
      "avg / total       0.72      0.72      0.72      1144\n",
      "\n",
      "[[518 132]\n",
      " [187 307]]\n",
      "The accuracy on Cross validation score in Logistic Regression: 0.720900076278\n"
     ]
    }
   ],
   "source": [
    "#Logistic Regression- StratifiedKFold \n",
    "logcvmodel = LogisticRegression()\n",
    "logcvmodel_y_pred = cross_val_predict(logcvmodel,standardized_X, y, cv=10)\n",
    "results.append(logcvmodel_y_pred)\n",
    "print(metrics.classification_report(y, logcvmodel_y_pred))\n",
    "print(metrics.confusion_matrix(y, logcvmodel_y_pred))\n",
    "#............................\n",
    "log_cv_scores = cross_val_score(logcvmodel, standardized_X, y, scoring='accuracy', cv=10)\n",
    "#print(log_cv_scores)\n",
    "print(\"The accuracy on Cross validation score in Logistic Regression:\",log_cv_scores.mean())"
   ]
  },
  {
   "cell_type": "code",
   "execution_count": 6,
   "metadata": {},
   "outputs": [
    {
     "data": {
      "image/png": "[encoded data removed]",
      "text/plain": [
       "<matplotlib.figure.Figure at 0x1094f9dd8>"
      ]
     },
     "metadata": {},
     "output_type": "display_data"
    }
   ],
   "source": [
    "log_clf = logcvmodel.fit(standardized_X, y)\n",
    "decision_values = log_clf.decision_function(standardized_X)\n",
    "precision, recall, thresholds = sklearn.metrics.precision_recall_curve(y, decision_values)\n",
    "plt.plot(recall, precision, color='green')\n",
    "plt.fill_between(recall, precision, step='post', alpha=0.1,color='green')\n",
    "plt.xlabel('Recall')\n",
    "plt.ylabel('Precision')\n",
    "plt.show()"
   ]
  },
  {
   "cell_type": "code",
   "execution_count": 7,
   "metadata": {},
   "outputs": [
    {
     "name": "stdout",
     "output_type": "stream",
     "text": [
      "             precision    recall  f1-score   support\n",
      "\n",
      "        0.0       0.76      0.64      0.69       650\n",
      "        1.0       0.60      0.73      0.66       494\n",
      "\n",
      "avg / total       0.69      0.68      0.68      1144\n",
      "\n",
      "[[414 236]\n",
      " [134 360]]\n",
      "The accuracy on cross validation score in Decision Tree: 0.676209000763\n"
     ]
    }
   ],
   "source": [
    "#Decision Tree\n",
    "dtcvmodel = DecisionTreeClassifier(random_state=seed)\n",
    "dt_y_pred = cross_val_predict(dtcvmodel,standardized_X, y, cv=10)\n",
    "results.append(dt_y_pred)\n",
    "print(metrics.classification_report(y,dt_y_pred))\n",
    "print(metrics.confusion_matrix(y, dt_y_pred))\n",
    "#................................................................\n",
    "dt_cv_scores = cross_val_score(dtcvmodel, standardized_X, y, scoring='accuracy', cv=10)\n",
    "#print(dt_cv_scores)\n",
    "print(\"The accuracy on cross validation score in Decision Tree:\",dt_cv_scores.mean())"
   ]
  },
  {
   "cell_type": "code",
   "execution_count": 8,
   "metadata": {},
   "outputs": [
    {
     "name": "stdout",
     "output_type": "stream",
     "text": [
      "             precision    recall  f1-score   support\n",
      "\n",
      "        0.0       0.80      0.72      0.76       650\n",
      "        1.0       0.67      0.76      0.71       494\n",
      "\n",
      "avg / total       0.74      0.74      0.74      1144\n",
      "\n",
      "[[466 184]\n",
      " [118 376]]\n",
      "The accuracy on cross validation score in Random Forest: 0.735675057208\n"
     ]
    }
   ],
   "source": [
    "#Random Forest\n",
    "rfccvmodel = RandomForestClassifier(n_estimators=100, random_state=seed)\n",
    "rf_y_pred = cross_val_predict(rfccvmodel,standardized_X, y, cv=10)\n",
    "results.append(rf_y_pred)\n",
    "print(metrics.classification_report(y, rf_y_pred))\n",
    "print(metrics.confusion_matrix(y, rf_y_pred))\n",
    "rf_cv_scores = cross_val_score(rfccvmodel, standardized_X, y, scoring='accuracy', cv=10)\n",
    "#print(rf_cv_scores)\n",
    "print(\"The accuracy on cross validation score in Random Forest:\",rf_cv_scores.mean())"
   ]
  },
  {
   "cell_type": "code",
   "execution_count": 9,
   "metadata": {},
   "outputs": [
    {
     "name": "stdout",
     "output_type": "stream",
     "text": [
      "             precision    recall  f1-score   support\n",
      "\n",
      "        0.0       0.76      0.72      0.74       650\n",
      "        1.0       0.66      0.71      0.68       494\n",
      "\n",
      "avg / total       0.72      0.72      0.72      1144\n",
      "\n",
      "[[471 179]\n",
      " [145 349]]\n",
      "The accuracy on cross validation score in Random Forest: 0.716407322654\n"
     ]
    }
   ],
   "source": [
    "#Extremely Random Trees\n",
    "etcvmodel = ExtraTreesClassifier(random_state=seed)\n",
    "et_y_pred= cross_val_predict(etcvmodel,standardized_X, y, cv=10)\n",
    "results.append(et_y_pred)\n",
    "print(metrics.classification_report(y, et_y_pred))\n",
    "print(metrics.confusion_matrix(y, et_y_pred))\n",
    "et_cv_scores = cross_val_score(etcvmodel, standardized_X, y, scoring='accuracy', cv=10)\n",
    "#print(et_cv_scores)\n",
    "print(\"The accuracy on cross validation score in Random Forest:\",et_cv_scores.mean())"
   ]
  },
  {
   "cell_type": "code",
   "execution_count": 10,
   "metadata": {},
   "outputs": [
    {
     "name": "stdout",
     "output_type": "stream",
     "text": [
      "[ 0.71304348  0.87826087  0.73043478  0.86086957  0.77192982  0.8245614\n",
      "  0.61403509  0.52631579  0.66666667  0.60526316] \n",
      "***************************************************************************\n",
      "\n",
      "The 10-fold cross-validation accuracy score for linear SVM classifier is 0.72\n",
      "\n"
     ]
    }
   ],
   "source": [
    "#SVM Linear Kernel\n",
    "svmcvlinear = SVC(kernel='linear', C=45.42)\n",
    "linear_cv_error = cross_val_score(svmcvlinear, standardized_X, y, cv=10)\n",
    "results.append(linear_cv_error)\n",
    "print(linear_cv_error,\"\\n***************************************************************************\")\n",
    "print('\\nThe {}-fold cross-validation accuracy score for linear SVM classifier is {:.2f}\\n'.format(10, np.average(linear_cv_error)))"
   ]
  },
  {
   "cell_type": "code",
   "execution_count": 11,
   "metadata": {},
   "outputs": [
    {
     "data": {
      "image/png": "[encoded data removed]",
      "text/plain": [
       "<matplotlib.figure.Figure at 0x108b05d30>"
      ]
     },
     "metadata": {},
     "output_type": "display_data"
    }
   ],
   "source": [
    "linearsvmclf = svmcvlinear.fit(standardized_X, y)\n",
    "decision_values = linearsvmclf.decision_function(standardized_X)\n",
    "\n",
    "precision, recall, thresholds = sklearn.metrics.precision_recall_curve(y, decision_values)\n",
    "\n",
    "plt.plot(recall, precision, color='red')\n",
    "plt.fill_between(recall, precision, step='post', alpha=0.1,color='red')\n",
    "plt.xlabel('Recall')\n",
    "plt.ylabel('Precision')\n",
    "plt.show()"
   ]
  },
  {
   "cell_type": "code",
   "execution_count": 12,
   "metadata": {},
   "outputs": [
    {
     "name": "stdout",
     "output_type": "stream",
     "text": [
      "[ 0.80869565  0.8173913   0.67826087  0.82608696  0.86842105  0.85964912\n",
      "  0.62280702  0.57894737  0.75438596  0.62280702] \n",
      "***************************************************************************\n",
      "\n",
      "The 10-fold cross-validation accuracy score for classifier is 0.74\n",
      "\n"
     ]
    }
   ],
   "source": [
    "#SVM RBF Kernel\n",
    "svmcvrbf = SVC(kernel='rbf', C= 31.21,gamma=0.00827)\n",
    "rbf_cv_error = cross_val_score(svmcvrbf, standardized_X, y, cv=10)\n",
    "results.append(rbf_cv_error)\n",
    "print(rbf_cv_error,\"\\n***************************************************************************\")\n",
    "print('\\nThe {}-fold cross-validation accuracy score for classifier is {:.2f}\\n'.format(10, np.average(rbf_cv_error)))"
   ]
  },
  {
   "cell_type": "code",
   "execution_count": 13,
   "metadata": {},
   "outputs": [
    {
     "data": {
      "image/png": "[encoded data removed]",
      "text/plain": [
       "<matplotlib.figure.Figure at 0x10a94c208>"
      ]
     },
     "metadata": {},
     "output_type": "display_data"
    }
   ],
   "source": [
    "rbfsvmclf = svmcvrbf.fit(standardized_X, y)\n",
    "decision_values = rbfsvmclf.decision_function(standardized_X)\n",
    "\n",
    "precision, recall, thresholds = sklearn.metrics.precision_recall_curve(y, decision_values)\n",
    "\n",
    "plt.plot(recall, precision, color='black')\n",
    "plt.fill_between(recall, precision, step='post', alpha=0.1,color='gray')\n",
    "plt.xlabel('Recall')\n",
    "plt.ylabel('Precision')\n",
    "plt.show()"
   ]
  },
  {
   "cell_type": "code",
   "execution_count": 14,
   "metadata": {},
   "outputs": [
    {
     "name": "stdout",
     "output_type": "stream",
     "text": [
      "[ 0.72173913  0.87826087  0.65217391  0.86956522  0.73684211  0.72807018\n",
      "  0.61403509  0.56140351  0.70175439  0.66666667] \n",
      "***************************************************************************\n",
      "\n",
      "The 10-fold cross-validation accuracy score for classifier is 0.71\n",
      "\n"
     ]
    }
   ],
   "source": [
    "#SVM NPolynomial Kernel\n",
    "svmcvpoly = SVC(kernel='poly',C= 35.673,gamma=0.0422)\n",
    "poly_cv_error = cross_val_score(svmcvpoly, standardized_X, y, cv=10)\n",
    "results.append(poly_cv_error)\n",
    "print(poly_cv_error,\"\\n***************************************************************************\")\n",
    "print('\\nThe {}-fold cross-validation accuracy score for classifier is {:.2f}\\n'.format(10, np.average(poly_cv_error)))"
   ]
  },
  {
   "cell_type": "code",
   "execution_count": 15,
   "metadata": {},
   "outputs": [
    {
     "data": {
      "image/png": "[encoded data removed]",
      "text/plain": [
       "<matplotlib.figure.Figure at 0x1a1071d518>"
      ]
     },
     "metadata": {},
     "output_type": "display_data"
    }
   ],
   "source": [
    "polysvmclf = svmcvpoly.fit(standardized_X, y)\n",
    "decision_values = polysvmclf.decision_function(standardized_X)\n",
    "precision, recall, thresholds = sklearn.metrics.precision_recall_curve(y, decision_values)\n",
    "plt.plot(recall, precision, color='orange',markerfacecolor='blue', markersize=12)\n",
    "plt.fill_between(recall, precision, step='post', alpha=0.07,color='yellow')\n",
    "plt.xlabel('Recall')\n",
    "plt.ylabel('Precision')\n",
    "plt.show()"
   ]
  },
  {
   "cell_type": "code",
   "execution_count": 16,
   "metadata": {},
   "outputs": [
    {
     "name": "stdout",
     "output_type": "stream",
     "text": [
      "0.731380625477\n"
     ]
    }
   ],
   "source": [
    "# Voting Ensemble for Classification\n",
    "from sklearn import model_selection\n",
    "\n",
    "\n",
    "#kfold = model_selection.KFold(n_splits=10, random_state=seed)\n",
    "# create the sub models\n",
    "estimators = []\n",
    "estimators.append(('logistic', logcvmodel))\n",
    "estimators.append(('randomforest', rfccvmodel))\n",
    "estimators.append(('extratreeforest', etcvmodel))\n",
    "estimators.append(('svmlinear', svmcvlinear))\n",
    "estimators.append(('svmrbf', svmcvrbf))\n",
    "estimators.append(('svmpoly', svmcvpoly))\n",
    "# create the ensemble model\n",
    "ensemble = VotingClassifier(estimators, voting='hard')\n",
    "results = model_selection.cross_val_score(ensemble, standardized_X, y, cv=10)\n",
    "print(results.mean())"
   ]
  },
  {
   "cell_type": "code",
   "execution_count": null,
   "metadata": {
    "collapsed": true
   },
   "outputs": [],
   "source": []
  },
  {
   "cell_type": "code",
   "execution_count": null,
   "metadata": {
    "collapsed": true
   },
   "outputs": [],
   "source": []
  }
 ],
 "metadata": {
  "kernelspec": {
   "display_name": "Python 3",
   "language": "python",
   "name": "python3"
  },
  "language_info": {
   "codemirror_mode": {
    "name": "ipython",
    "version": 3
   },
   "file_extension": ".py",
   "mimetype": "text/x-python",
   "name": "python",
   "nbconvert_exporter": "python",
   "pygments_lexer": "ipython3",
   "version": "3.6.3"
  }
 },
 "nbformat": 4,
 "nbformat_minor": 2
}
