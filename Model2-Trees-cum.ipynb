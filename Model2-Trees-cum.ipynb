{
 "cells": [
  {
   "cell_type": "markdown",
   "metadata": {},
   "source": [
    "## Decision Trees"
   ]
  },
  {
   "cell_type": "code",
   "execution_count": 1,
   "metadata": {},
   "outputs": [],
   "source": [
    "import pandas as pd\n",
    "import matplotlib.pyplot as plt\n",
    "\n",
    "from sklearn.model_selection import train_test_split\n",
    "from sklearn.tree import DecisionTreeClassifier\n",
    "from sklearn import preprocessing\n",
    "from sklearn.metrics import f1_score,confusion_matrix\n",
    "from sklearn.ensemble import RandomForestClassifier\n",
    "from sklearn.metrics import classification_report,confusion_matrix\n",
    "from sklearn.metrics import accuracy_score\n",
    "from sklearn.model_selection import cross_val_score\n",
    "import seaborn as sns\n",
    "%matplotlib inline"
   ]
  },
  {
   "cell_type": "code",
   "execution_count": 2,
   "metadata": {},
   "outputs": [
    {
     "data": {
      "text/plain": [
       "Index(['Days.Since', 'Reexp1', 'Reexp2', 'Avoid1', 'Avoid2', 'NACM1', 'NACM2',\n",
       "       'AAR1', 'AAR2', 'Sleep', 'Pain', 'Reexp1_cum', 'Reexp2_cum',\n",
       "       'Avoid1_cum', 'Avoid2_cum', 'NACM1_cum', 'NACM2_cum', 'AAR1_cum',\n",
       "       'AAR2_cum', 'Sleep_cum', 'Pain_cum', 'Threshold'],\n",
       "      dtype='object')"
      ]
     },
     "execution_count": 2,
     "metadata": {},
     "output_type": "execute_result"
    }
   ],
   "source": [
    "data_df = pd.read_csv(\"data_process_cum.csv\")\n",
    "data_df.columns"
   ]
  },
  {
   "cell_type": "code",
   "execution_count": 3,
   "metadata": {},
   "outputs": [
    {
     "data": {
      "text/html": [
       "<div>\n",
       "<style scoped>\n",
       "    .dataframe tbody tr th:only-of-type {\n",
       "        vertical-align: middle;\n",
       "    }\n",
       "\n",
       "    .dataframe tbody tr th {\n",
       "        vertical-align: top;\n",
       "    }\n",
       "\n",
       "    .dataframe thead th {\n",
       "        text-align: right;\n",
       "    }\n",
       "</style>\n",
       "<table border=\"1\" class=\"dataframe\">\n",
       "  <thead>\n",
       "    <tr style=\"text-align: right;\">\n",
       "      <th></th>\n",
       "      <th>Days.Since</th>\n",
       "      <th>Reexp1</th>\n",
       "      <th>Reexp2</th>\n",
       "      <th>Avoid1</th>\n",
       "      <th>Avoid2</th>\n",
       "      <th>NACM1</th>\n",
       "      <th>NACM2</th>\n",
       "      <th>AAR1</th>\n",
       "      <th>AAR2</th>\n",
       "      <th>Sleep</th>\n",
       "      <th>...</th>\n",
       "      <th>Reexp2_cum</th>\n",
       "      <th>Avoid1_cum</th>\n",
       "      <th>Avoid2_cum</th>\n",
       "      <th>NACM1_cum</th>\n",
       "      <th>NACM2_cum</th>\n",
       "      <th>AAR1_cum</th>\n",
       "      <th>AAR2_cum</th>\n",
       "      <th>Sleep_cum</th>\n",
       "      <th>Pain_cum</th>\n",
       "      <th>Threshold</th>\n",
       "    </tr>\n",
       "  </thead>\n",
       "  <tbody>\n",
       "    <tr>\n",
       "      <th>0</th>\n",
       "      <td>2.0</td>\n",
       "      <td>2.0</td>\n",
       "      <td>2.50</td>\n",
       "      <td>3.00</td>\n",
       "      <td>3.000</td>\n",
       "      <td>2.00</td>\n",
       "      <td>0.00</td>\n",
       "      <td>0.0</td>\n",
       "      <td>0.50</td>\n",
       "      <td>0.50</td>\n",
       "      <td>...</td>\n",
       "      <td>2.500</td>\n",
       "      <td>3.00</td>\n",
       "      <td>3.0000</td>\n",
       "      <td>2.000</td>\n",
       "      <td>0.000</td>\n",
       "      <td>0.0</td>\n",
       "      <td>0.500</td>\n",
       "      <td>0.50</td>\n",
       "      <td>5.500</td>\n",
       "      <td>1</td>\n",
       "    </tr>\n",
       "    <tr>\n",
       "      <th>1</th>\n",
       "      <td>5.5</td>\n",
       "      <td>1.0</td>\n",
       "      <td>1.25</td>\n",
       "      <td>0.75</td>\n",
       "      <td>1.125</td>\n",
       "      <td>1.50</td>\n",
       "      <td>0.75</td>\n",
       "      <td>0.0</td>\n",
       "      <td>0.00</td>\n",
       "      <td>0.75</td>\n",
       "      <td>...</td>\n",
       "      <td>3.750</td>\n",
       "      <td>3.75</td>\n",
       "      <td>4.1250</td>\n",
       "      <td>3.500</td>\n",
       "      <td>0.750</td>\n",
       "      <td>0.0</td>\n",
       "      <td>0.500</td>\n",
       "      <td>1.25</td>\n",
       "      <td>9.500</td>\n",
       "      <td>1</td>\n",
       "    </tr>\n",
       "    <tr>\n",
       "      <th>2</th>\n",
       "      <td>9.5</td>\n",
       "      <td>0.0</td>\n",
       "      <td>0.50</td>\n",
       "      <td>0.75</td>\n",
       "      <td>1.000</td>\n",
       "      <td>0.75</td>\n",
       "      <td>0.00</td>\n",
       "      <td>0.0</td>\n",
       "      <td>0.25</td>\n",
       "      <td>1.25</td>\n",
       "      <td>...</td>\n",
       "      <td>2.125</td>\n",
       "      <td>2.25</td>\n",
       "      <td>2.5625</td>\n",
       "      <td>2.125</td>\n",
       "      <td>0.375</td>\n",
       "      <td>0.0</td>\n",
       "      <td>0.375</td>\n",
       "      <td>1.25</td>\n",
       "      <td>6.125</td>\n",
       "      <td>1</td>\n",
       "    </tr>\n",
       "  </tbody>\n",
       "</table>\n",
       "<p>3 rows × 22 columns</p>\n",
       "</div>"
      ],
      "text/plain": [
       "   Days.Since  Reexp1  Reexp2  Avoid1  Avoid2  NACM1  NACM2  AAR1  AAR2  \\\n",
       "0         2.0     2.0    2.50    3.00   3.000   2.00   0.00   0.0  0.50   \n",
       "1         5.5     1.0    1.25    0.75   1.125   1.50   0.75   0.0  0.00   \n",
       "2         9.5     0.0    0.50    0.75   1.000   0.75   0.00   0.0  0.25   \n",
       "\n",
       "   Sleep    ...      Reexp2_cum  Avoid1_cum  Avoid2_cum  NACM1_cum  NACM2_cum  \\\n",
       "0   0.50    ...           2.500        3.00      3.0000      2.000      0.000   \n",
       "1   0.75    ...           3.750        3.75      4.1250      3.500      0.750   \n",
       "2   1.25    ...           2.125        2.25      2.5625      2.125      0.375   \n",
       "\n",
       "   AAR1_cum  AAR2_cum  Sleep_cum  Pain_cum  Threshold  \n",
       "0       0.0     0.500       0.50     5.500          1  \n",
       "1       0.0     0.500       1.25     9.500          1  \n",
       "2       0.0     0.375       1.25     6.125          1  \n",
       "\n",
       "[3 rows x 22 columns]"
      ]
     },
     "execution_count": 3,
     "metadata": {},
     "output_type": "execute_result"
    }
   ],
   "source": [
    "data_df.head(3)"
   ]
  },
  {
   "cell_type": "code",
   "execution_count": 4,
   "metadata": {},
   "outputs": [],
   "source": [
    "dataset = data_df.as_matrix()\n",
    "X = dataset[:,0:21]\n",
    "\n",
    "#last column is the target\n",
    "y = dataset[:,21:22]\n",
    "\n",
    "# standardize the data attributes\n",
    "standardized_X = preprocessing.scale(X)"
   ]
  },
  {
   "cell_type": "code",
   "execution_count": 5,
   "metadata": {},
   "outputs": [],
   "source": [
    "# split data train 70 % and test 30 %\n",
    "X_train, X_test, y_train, y_test = train_test_split(standardized_X, y.ravel(), test_size=0.3, random_state=4)"
   ]
  },
  {
   "cell_type": "markdown",
   "metadata": {},
   "source": [
    "### Decision Tree Classifier"
   ]
  },
  {
   "cell_type": "code",
   "execution_count": 6,
   "metadata": {},
   "outputs": [
    {
     "name": "stdout",
     "output_type": "stream",
     "text": [
      "Accuracy is:  0.8982558139534884\n"
     ]
    }
   ],
   "source": [
    "dtc = DecisionTreeClassifier(random_state=4)      \n",
    "dtc = dtc.fit(X_train,y_train)\n",
    "\n",
    "ac = accuracy_score(y_test,dtc.predict(X_test))\n",
    "print('Accuracy is: ',ac)"
   ]
  },
  {
   "cell_type": "markdown",
   "metadata": {},
   "source": [
    "### Decision Tree Cross validation "
   ]
  },
  {
   "cell_type": "code",
   "execution_count": 7,
   "metadata": {},
   "outputs": [
    {
     "name": "stdout",
     "output_type": "stream",
     "text": [
      "[0.64347826 0.83478261 0.46086957 0.87826087 0.83333333 0.78947368\n",
      " 0.59649123 0.42105263 0.51754386 0.31578947]\n",
      "The Cross validation score on Decision Tree: 0.6291075514874143\n"
     ]
    }
   ],
   "source": [
    "# evaluate the model using 10-fold cross-validation\n",
    "cv_scores = cross_val_score(DecisionTreeClassifier(random_state=4), standardized_X, y.ravel(), scoring='accuracy', cv=10)\n",
    "print(cv_scores)\n",
    "\n",
    "print(\"The Cross validation score on Decision Tree:\",cv_scores.mean())\n"
   ]
  },
  {
   "cell_type": "markdown",
   "metadata": {},
   "source": [
    "### Random Forest "
   ]
  },
  {
   "cell_type": "code",
   "execution_count": 8,
   "metadata": {},
   "outputs": [
    {
     "name": "stdout",
     "output_type": "stream",
     "text": [
      "Accuracy is:  0.9622093023255814\n"
     ]
    }
   ],
   "source": [
    "rfc = RandomForestClassifier(n_estimators=100,random_state=4)     \n",
    "rfc = rfc.fit(X_train,y_train)\n",
    "ac_rfc = accuracy_score(y_test,rfc.predict(X_test))\n",
    "print('Accuracy is: ',ac_rfc)"
   ]
  },
  {
   "cell_type": "markdown",
   "metadata": {},
   "source": [
    "### Random Forest Feature Importance "
   ]
  },
  {
   "cell_type": "code",
   "execution_count": 9,
   "metadata": {},
   "outputs": [
    {
     "name": "stdout",
     "output_type": "stream",
     "text": [
      "Feature ranking:\n",
      "1. feature 6 (0.109724)\n",
      "2. feature 5 (0.106167)\n",
      "3. feature 8 (0.073700)\n",
      "4. feature 14 (0.053578)\n",
      "5. feature 11 (0.053545)\n",
      "6. feature 2 (0.049967)\n",
      "7. feature 13 (0.049513)\n",
      "8. feature 3 (0.049001)\n",
      "9. feature 19 (0.045678)\n",
      "10. feature 18 (0.043905)\n",
      "11. feature 10 (0.042134)\n",
      "12. feature 12 (0.041634)\n",
      "13. feature 1 (0.040980)\n",
      "14. feature 20 (0.040341)\n",
      "15. feature 16 (0.038969)\n",
      "16. feature 15 (0.038540)\n",
      "17. feature 17 (0.035849)\n",
      "18. feature 9 (0.029186)\n",
      "19. feature 7 (0.025517)\n",
      "20. feature 4 (0.024931)\n",
      "21. feature 0 (0.007143)\n"
     ]
    },
    {
     "data": {
      "image/png": "[encoded data removed]",
      "text/plain": [
       "<matplotlib.figure.Figure at 0x101e85ef0>"
      ]
     },
     "metadata": {},
     "output_type": "display_data"
    }
   ],
   "source": [
    "import numpy as np\n",
    "importances = rfc.feature_importances_\n",
    "std = np.std([tree.feature_importances_ for tree in rfc.estimators_],\n",
    "             axis=0)\n",
    "indices = np.argsort(importances)[::-1]\n",
    "labels =[]\n",
    "# Print the feature ranking\n",
    "print(\"Feature ranking:\")\n",
    "\n",
    "for f in range(X_train.shape[1]):\n",
    "    print(\"%d. feature %d (%f)\" % (f + 1, indices[f], importances[indices[f]]))\n",
    "    labels.append(indices[f])\n",
    "# Plot the feature importances of the forest\n",
    "\n",
    "plt.figure(1, figsize=(14, 13))\n",
    "plt.title(\"Feature importances\")\n",
    "plt.bar(range(X_train.shape[1]), importances[indices],\n",
    "       color=\"g\", yerr=std[indices], align=\"center\")\n",
    " \n",
    "plt.xticks(range(X_train.shape[1]), labels,rotation=90)\n",
    "plt.xlabel(\"Feature number\")\n",
    "plt.ylabel(\"Feature importance value\")\n",
    "plt.xlim([-1, X_train.shape[1]])\n",
    "plt.show()"
   ]
  },
  {
   "cell_type": "markdown",
   "metadata": {},
   "source": [
    "### Random Forest Cross validation"
   ]
  },
  {
   "cell_type": "code",
   "execution_count": 10,
   "metadata": {},
   "outputs": [
    {
     "name": "stdout",
     "output_type": "stream",
     "text": [
      "[0.89565217 0.92173913 0.54782609 0.88695652 0.86842105 0.84210526\n",
      " 0.68421053 0.45614035 0.40350877 0.54385965]\n",
      "The Cross validation score on Random Forest: 0.7050419527078566\n"
     ]
    }
   ],
   "source": [
    "# evaluate the model using 10-fold cross-validation\n",
    "rfc_cv_scores = cross_val_score(RandomForestClassifier(n_estimators=100,random_state=4), standardized_X, y.ravel(), scoring='accuracy', cv=10)\n",
    "print(rfc_cv_scores)\n",
    "\n",
    "print(\"The Cross validation score on Random Forest:\",rfc_cv_scores.mean())"
   ]
  },
  {
   "cell_type": "code",
   "execution_count": null,
   "metadata": {},
   "outputs": [],
   "source": []
  }
 ],
 "metadata": {
  "kernelspec": {
   "display_name": "Python 3",
   "language": "python",
   "name": "python3"
  },
  "language_info": {
   "codemirror_mode": {
    "name": "ipython",
    "version": 3
   },
   "file_extension": ".py",
   "mimetype": "text/x-python",
   "name": "python",
   "nbconvert_exporter": "python",
   "pygments_lexer": "ipython3",
   "version": "3.6.4"
  }
 },
 "nbformat": 4,
 "nbformat_minor": 2
}
